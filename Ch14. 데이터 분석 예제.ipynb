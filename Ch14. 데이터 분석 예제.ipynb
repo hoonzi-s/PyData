{
  "cells": [
    {
      "cell_type": "markdown",
      "metadata": {
        "id": "view-in-github",
        "colab_type": "text"
      },
      "source": [
        "<a href=\"https://colab.research.google.com/github/hoonzi-s/PyData/blob/main/Ch14.%20%EB%8D%B0%EC%9D%B4%ED%84%B0%20%EB%B6%84%EC%84%9D%20%EC%98%88%EC%A0%9C.ipynb\" target=\"_parent\"><img src=\"https://colab.research.google.com/assets/colab-badge.svg\" alt=\"Open In Colab\"/></a>"
      ]
    },
    {
      "cell_type": "code",
      "source": [
        "from google.colab import drive\n",
        "drive.mount('/content/drive')"
      ],
      "metadata": {
        "id": "-PJ8MAOPHOmf",
        "colab": {
          "base_uri": "https://localhost:8080/"
        },
        "outputId": "a106df4e-25fb-4965-e576-51fe6a6850a6"
      },
      "id": "-PJ8MAOPHOmf",
      "execution_count": 1,
      "outputs": [
        {
          "output_type": "stream",
          "name": "stdout",
          "text": [
            "Mounted at /content/drive\n"
          ]
        }
      ]
    },
    {
      "cell_type": "code",
      "execution_count": 2,
      "id": "3a27df49",
      "metadata": {
        "id": "3a27df49"
      },
      "outputs": [],
      "source": [
        "import numpy as np\n",
        "import pandas as pd\n",
        "import matplotlib.pyplot as plt"
      ]
    },
    {
      "cell_type": "markdown",
      "source": [
        "#**14.1** Bit.ly의 1.USA.gov 데이터"
      ],
      "metadata": {
        "id": "VBz__WyQp7ZM"
      },
      "id": "VBz__WyQp7ZM"
    },
    {
      "cell_type": "code",
      "source": [
        "path = '/content/drive/MyDrive/pydata-book-3rd-edition/datasets/bitly_usagov/example.txt'\n",
        "open(path).readline()"
      ],
      "metadata": {
        "id": "D6YBI7UCqB5e",
        "outputId": "8ea9a41c-548e-4b92-ab95-46141e7a100d",
        "colab": {
          "base_uri": "https://localhost:8080/",
          "height": 72
        }
      },
      "id": "D6YBI7UCqB5e",
      "execution_count": 4,
      "outputs": [
        {
          "output_type": "execute_result",
          "data": {
            "text/plain": [
              "'{ \"a\": \"Mozilla\\\\/5.0 (Windows NT 6.1; WOW64) AppleWebKit\\\\/535.11 (KHTML, like Gecko) Chrome\\\\/17.0.963.78 Safari\\\\/535.11\", \"c\": \"US\", \"nk\": 1, \"tz\": \"America\\\\/New_York\", \"gr\": \"MA\", \"g\": \"A6qOVH\", \"h\": \"wfLQtf\", \"l\": \"orofrog\", \"al\": \"en-US,en;q=0.8\", \"hh\": \"1.usa.gov\", \"r\": \"http:\\\\/\\\\/www.facebook.com\\\\/l\\\\/7AQEFzjSi\\\\/1.usa.gov\\\\/wfLQtf\", \"u\": \"http:\\\\/\\\\/www.ncbi.nlm.nih.gov\\\\/pubmed\\\\/22415991\", \"t\": 1331923247, \"hc\": 1331822918, \"cy\": \"Danvers\", \"ll\": [ 42.576698, -70.954903 ] }\\n'"
            ],
            "application/vnd.google.colaboratory.intrinsic+json": {
              "type": "string"
            }
          },
          "metadata": {},
          "execution_count": 4
        }
      ]
    },
    {
      "cell_type": "code",
      "source": [
        "import json\n",
        "records = [json.loads(line) for line in open(path)]\n",
        "records[0]"
      ],
      "metadata": {
        "id": "UAWxaX09qSdu",
        "outputId": "052b0a9f-70c3-4c6e-ebd1-e75ddbc6f40f",
        "colab": {
          "base_uri": "https://localhost:8080/"
        }
      },
      "id": "UAWxaX09qSdu",
      "execution_count": 6,
      "outputs": [
        {
          "output_type": "execute_result",
          "data": {
            "text/plain": [
              "{'a': 'Mozilla/5.0 (Windows NT 6.1; WOW64) AppleWebKit/535.11 (KHTML, like Gecko) Chrome/17.0.963.78 Safari/535.11',\n",
              " 'al': 'en-US,en;q=0.8',\n",
              " 'c': 'US',\n",
              " 'cy': 'Danvers',\n",
              " 'g': 'A6qOVH',\n",
              " 'gr': 'MA',\n",
              " 'h': 'wfLQtf',\n",
              " 'hc': 1331822918,\n",
              " 'hh': '1.usa.gov',\n",
              " 'l': 'orofrog',\n",
              " 'll': [42.576698, -70.954903],\n",
              " 'nk': 1,\n",
              " 'r': 'http://www.facebook.com/l/7AQEFzjSi/1.usa.gov/wfLQtf',\n",
              " 't': 1331923247,\n",
              " 'tz': 'America/New_York',\n",
              " 'u': 'http://www.ncbi.nlm.nih.gov/pubmed/22415991'}"
            ]
          },
          "metadata": {},
          "execution_count": 6
        }
      ]
    },
    {
      "cell_type": "markdown",
      "source": [
        "##**14.1.1** 순수 Python으로 표준시간대 세어보기"
      ],
      "metadata": {
        "id": "1EtdOC12qcaG"
      },
      "id": "1EtdOC12qcaG"
    },
    {
      "cell_type": "code",
      "source": [
        "time_zones = [rec['tz'] for rec in records if 'tz' in rec]\n",
        "time_zones[:10]"
      ],
      "metadata": {
        "id": "r4DQvEK7rtmJ",
        "outputId": "3ae3bd09-3c8c-49c2-f84e-6612356d6261",
        "colab": {
          "base_uri": "https://localhost:8080/"
        }
      },
      "id": "r4DQvEK7rtmJ",
      "execution_count": 9,
      "outputs": [
        {
          "output_type": "execute_result",
          "data": {
            "text/plain": [
              "['America/New_York',\n",
              " 'America/Denver',\n",
              " 'America/New_York',\n",
              " 'America/Sao_Paulo',\n",
              " 'America/New_York',\n",
              " 'America/New_York',\n",
              " 'Europe/Warsaw',\n",
              " '',\n",
              " '',\n",
              " '']"
            ]
          },
          "metadata": {},
          "execution_count": 9
        }
      ]
    },
    {
      "cell_type": "code",
      "source": [
        "def get_counts(sequence):\n",
        "  counts = {}\n",
        "  for x in sequence:\n",
        "    if x in counts:\n",
        "      counts[x] += 1\n",
        "    else:\n",
        "      counts[x] = 1\n",
        "  return counts"
      ],
      "metadata": {
        "id": "hMGtC7ylr2IK"
      },
      "id": "hMGtC7ylr2IK",
      "execution_count": 10,
      "outputs": []
    },
    {
      "cell_type": "code",
      "source": [
        "counts = get_counts(time_zones)\n",
        "counts['America/New_York']"
      ],
      "metadata": {
        "id": "lI6AJRhYsN9q",
        "outputId": "783adc01-abce-4bb1-9686-096ce98bf7c2",
        "colab": {
          "base_uri": "https://localhost:8080/"
        }
      },
      "id": "lI6AJRhYsN9q",
      "execution_count": 11,
      "outputs": [
        {
          "output_type": "execute_result",
          "data": {
            "text/plain": [
              "1251"
            ]
          },
          "metadata": {},
          "execution_count": 11
        }
      ]
    },
    {
      "cell_type": "code",
      "source": [
        "len(time_zones)"
      ],
      "metadata": {
        "id": "HkzVuZ3PsUCS",
        "outputId": "4f8202be-f6a3-4833-c0ed-89e9f1fe1005",
        "colab": {
          "base_uri": "https://localhost:8080/"
        }
      },
      "id": "HkzVuZ3PsUCS",
      "execution_count": 12,
      "outputs": [
        {
          "output_type": "execute_result",
          "data": {
            "text/plain": [
              "3440"
            ]
          },
          "metadata": {},
          "execution_count": 12
        }
      ]
    },
    {
      "cell_type": "code",
      "source": [
        "def top_counts(count_dict, n = 10):\n",
        "  value_key_paris = [(count, tz) for tz, count in count_dict.items()]\n",
        "  value_key_paris.sort(reverse = True)\n",
        "  return value_key_paris[:10]"
      ],
      "metadata": {
        "id": "pFmUbnc4sWYZ"
      },
      "id": "pFmUbnc4sWYZ",
      "execution_count": 15,
      "outputs": []
    },
    {
      "cell_type": "code",
      "source": [
        "top_counts(counts)"
      ],
      "metadata": {
        "id": "OshNQKDttgU3",
        "outputId": "df5ce171-bdda-48ee-ba80-f5c704cd3b80",
        "colab": {
          "base_uri": "https://localhost:8080/"
        }
      },
      "id": "OshNQKDttgU3",
      "execution_count": 16,
      "outputs": [
        {
          "output_type": "execute_result",
          "data": {
            "text/plain": [
              "[(1251, 'America/New_York'),\n",
              " (521, ''),\n",
              " (400, 'America/Chicago'),\n",
              " (382, 'America/Los_Angeles'),\n",
              " (191, 'America/Denver'),\n",
              " (74, 'Europe/London'),\n",
              " (37, 'Asia/Tokyo'),\n",
              " (36, 'Pacific/Honolulu'),\n",
              " (35, 'Europe/Madrid'),\n",
              " (33, 'America/Sao_Paulo')]"
            ]
          },
          "metadata": {},
          "execution_count": 16
        }
      ]
    },
    {
      "cell_type": "code",
      "source": [
        "from collections import Counter\n",
        "counts = Counter(time_zones)\n",
        "counts.most_common(10)"
      ],
      "metadata": {
        "id": "5Dar5b3Ltin1",
        "outputId": "93057c8b-0ed0-4740-bef7-ecc3e83f6d16",
        "colab": {
          "base_uri": "https://localhost:8080/"
        }
      },
      "id": "5Dar5b3Ltin1",
      "execution_count": 17,
      "outputs": [
        {
          "output_type": "execute_result",
          "data": {
            "text/plain": [
              "[('America/New_York', 1251),\n",
              " ('', 521),\n",
              " ('America/Chicago', 400),\n",
              " ('America/Los_Angeles', 382),\n",
              " ('America/Denver', 191),\n",
              " ('Europe/London', 74),\n",
              " ('Asia/Tokyo', 37),\n",
              " ('Pacific/Honolulu', 36),\n",
              " ('Europe/Madrid', 35),\n",
              " ('America/Sao_Paulo', 33)]"
            ]
          },
          "metadata": {},
          "execution_count": 17
        }
      ]
    },
    {
      "cell_type": "markdown",
      "source": [
        "##**14.1.2** Pandas로 표준시간대 세어보기"
      ],
      "metadata": {
        "id": "qKulrnZ5tsTG"
      },
      "id": "qKulrnZ5tsTG"
    },
    {
      "cell_type": "code",
      "source": [
        "frame = pd.DataFrame(records)\n",
        "frame"
      ],
      "metadata": {
        "id": "9QT-ANZ9tx7u",
        "outputId": "b4c8c94e-13fa-476f-ad98-6f987dac76f3",
        "colab": {
          "base_uri": "https://localhost:8080/",
          "height": 696
        }
      },
      "id": "9QT-ANZ9tx7u",
      "execution_count": 18,
      "outputs": [
        {
          "output_type": "execute_result",
          "data": {
            "text/plain": [
              "                                                      a   c   nk  \\\n",
              "0     Mozilla/5.0 (Windows NT 6.1; WOW64) AppleWebKi...  US  1.0   \n",
              "1                                GoogleMaps/RochesterNY  US  0.0   \n",
              "2     Mozilla/4.0 (compatible; MSIE 8.0; Windows NT ...  US  1.0   \n",
              "3     Mozilla/5.0 (Macintosh; Intel Mac OS X 10_6_8)...  BR  0.0   \n",
              "4     Mozilla/5.0 (Windows NT 6.1; WOW64) AppleWebKi...  US  0.0   \n",
              "...                                                 ...  ..  ...   \n",
              "3555  Mozilla/4.0 (compatible; MSIE 9.0; Windows NT ...  US  1.0   \n",
              "3556  Mozilla/5.0 (Windows NT 5.1) AppleWebKit/535.1...  US  0.0   \n",
              "3557                             GoogleMaps/RochesterNY  US  0.0   \n",
              "3558                                     GoogleProducer  US  0.0   \n",
              "3559  Mozilla/4.0 (compatible; MSIE 8.0; Windows NT ...  US  0.0   \n",
              "\n",
              "                       tz  gr       g       h             l              al  \\\n",
              "0        America/New_York  MA  A6qOVH  wfLQtf       orofrog  en-US,en;q=0.8   \n",
              "1          America/Denver  UT  mwszkS  mwszkS         bitly             NaN   \n",
              "2        America/New_York  DC  xxr3Qb  xxr3Qb         bitly           en-US   \n",
              "3       America/Sao_Paulo  27  zCaLwp  zUtuOu      alelex88           pt-br   \n",
              "4        America/New_York  MA  9b6kNl  9b6kNl         bitly  en-US,en;q=0.8   \n",
              "...                   ...  ..     ...     ...           ...             ...   \n",
              "3555     America/New_York  NJ  e5SvKE  fqPSr9  tweetdeckapi              en   \n",
              "3556      America/Chicago  OK  jQLtP4  jQLtP4         bitly  en-US,en;q=0.8   \n",
              "3557       America/Denver  UT  mwszkS  mwszkS         bitly             NaN   \n",
              "3558  America/Los_Angeles  CA  zjtI4X  zjtI4X         bitly             NaN   \n",
              "3559     America/New_York  VA  qxKrTK  qxKrTK         bitly           en-US   \n",
              "\n",
              "             hh                                                  r  \\\n",
              "0     1.usa.gov  http://www.facebook.com/l/7AQEFzjSi/1.usa.gov/...   \n",
              "1          j.mp                           http://www.AwareMap.com/   \n",
              "2     1.usa.gov                               http://t.co/03elZC4Q   \n",
              "3     1.usa.gov                                             direct   \n",
              "4        bit.ly                http://www.shrewsbury-ma.gov/selco/   \n",
              "...         ...                                                ...   \n",
              "3555  1.usa.gov                                             direct   \n",
              "3556  1.usa.gov  http://www.facebook.com/l.php?u=http%3A%2F%2F1...   \n",
              "3557       j.mp                           http://www.AwareMap.com/   \n",
              "3558  1.usa.gov                                             direct   \n",
              "3559  1.usa.gov                               http://t.co/OEEEvwjU   \n",
              "\n",
              "                                                      u             t  \\\n",
              "0           http://www.ncbi.nlm.nih.gov/pubmed/22415991  1.331923e+09   \n",
              "1           http://www.monroecounty.gov/etc/911/rss.php  1.331923e+09   \n",
              "2     http://boxer.senate.gov/en/press/releases/0316...  1.331923e+09   \n",
              "3               http://apod.nasa.gov/apod/ap120312.html  1.331923e+09   \n",
              "4     http://www.shrewsbury-ma.gov/egov/gallery/1341...  1.331923e+09   \n",
              "...                                                 ...           ...   \n",
              "3555  http://www.fda.gov/AdvisoryCommittees/Committe...  1.331927e+09   \n",
              "3556  http://www.okc.gov/PublicNotificationSystem/Fo...  1.331927e+09   \n",
              "3557        http://www.monroecounty.gov/etc/911/rss.php  1.331927e+09   \n",
              "3558                http://www.ahrq.gov/qual/qitoolkit/  1.331927e+09   \n",
              "3559  http://herndon-va.gov/Content/public_safety/Pu...  1.331927e+09   \n",
              "\n",
              "                hc             cy                        ll  _heartbeat_   kw  \n",
              "0     1.331823e+09        Danvers   [42.576698, -70.954903]          NaN  NaN  \n",
              "1     1.308262e+09          Provo  [40.218102, -111.613297]          NaN  NaN  \n",
              "2     1.331920e+09     Washington     [38.9007, -77.043098]          NaN  NaN  \n",
              "3     1.331923e+09           Braz  [-23.549999, -46.616699]          NaN  NaN  \n",
              "4     1.273672e+09     Shrewsbury   [42.286499, -71.714699]          NaN  NaN  \n",
              "...            ...            ...                       ...          ...  ...  \n",
              "3555  1.301298e+09        Paramus         [40.9445, -74.07]          NaN  NaN  \n",
              "3556  1.307530e+09  Oklahoma City     [35.4715, -97.518997]          NaN  NaN  \n",
              "3557  1.308262e+09          Provo  [40.218102, -111.613297]          NaN  NaN  \n",
              "3558  1.327529e+09  Mountain View  [37.419201, -122.057404]          NaN  NaN  \n",
              "3559  1.312898e+09        Mc Lean   [38.935799, -77.162102]          NaN  NaN  \n",
              "\n",
              "[3560 rows x 18 columns]"
            ],
            "text/html": [
              "\n",
              "  <div id=\"df-b6629b69-a636-4fa2-9ef8-25a132c3a414\">\n",
              "    <div class=\"colab-df-container\">\n",
              "      <div>\n",
              "<style scoped>\n",
              "    .dataframe tbody tr th:only-of-type {\n",
              "        vertical-align: middle;\n",
              "    }\n",
              "\n",
              "    .dataframe tbody tr th {\n",
              "        vertical-align: top;\n",
              "    }\n",
              "\n",
              "    .dataframe thead th {\n",
              "        text-align: right;\n",
              "    }\n",
              "</style>\n",
              "<table border=\"1\" class=\"dataframe\">\n",
              "  <thead>\n",
              "    <tr style=\"text-align: right;\">\n",
              "      <th></th>\n",
              "      <th>a</th>\n",
              "      <th>c</th>\n",
              "      <th>nk</th>\n",
              "      <th>tz</th>\n",
              "      <th>gr</th>\n",
              "      <th>g</th>\n",
              "      <th>h</th>\n",
              "      <th>l</th>\n",
              "      <th>al</th>\n",
              "      <th>hh</th>\n",
              "      <th>r</th>\n",
              "      <th>u</th>\n",
              "      <th>t</th>\n",
              "      <th>hc</th>\n",
              "      <th>cy</th>\n",
              "      <th>ll</th>\n",
              "      <th>_heartbeat_</th>\n",
              "      <th>kw</th>\n",
              "    </tr>\n",
              "  </thead>\n",
              "  <tbody>\n",
              "    <tr>\n",
              "      <th>0</th>\n",
              "      <td>Mozilla/5.0 (Windows NT 6.1; WOW64) AppleWebKi...</td>\n",
              "      <td>US</td>\n",
              "      <td>1.0</td>\n",
              "      <td>America/New_York</td>\n",
              "      <td>MA</td>\n",
              "      <td>A6qOVH</td>\n",
              "      <td>wfLQtf</td>\n",
              "      <td>orofrog</td>\n",
              "      <td>en-US,en;q=0.8</td>\n",
              "      <td>1.usa.gov</td>\n",
              "      <td>http://www.facebook.com/l/7AQEFzjSi/1.usa.gov/...</td>\n",
              "      <td>http://www.ncbi.nlm.nih.gov/pubmed/22415991</td>\n",
              "      <td>1.331923e+09</td>\n",
              "      <td>1.331823e+09</td>\n",
              "      <td>Danvers</td>\n",
              "      <td>[42.576698, -70.954903]</td>\n",
              "      <td>NaN</td>\n",
              "      <td>NaN</td>\n",
              "    </tr>\n",
              "    <tr>\n",
              "      <th>1</th>\n",
              "      <td>GoogleMaps/RochesterNY</td>\n",
              "      <td>US</td>\n",
              "      <td>0.0</td>\n",
              "      <td>America/Denver</td>\n",
              "      <td>UT</td>\n",
              "      <td>mwszkS</td>\n",
              "      <td>mwszkS</td>\n",
              "      <td>bitly</td>\n",
              "      <td>NaN</td>\n",
              "      <td>j.mp</td>\n",
              "      <td>http://www.AwareMap.com/</td>\n",
              "      <td>http://www.monroecounty.gov/etc/911/rss.php</td>\n",
              "      <td>1.331923e+09</td>\n",
              "      <td>1.308262e+09</td>\n",
              "      <td>Provo</td>\n",
              "      <td>[40.218102, -111.613297]</td>\n",
              "      <td>NaN</td>\n",
              "      <td>NaN</td>\n",
              "    </tr>\n",
              "    <tr>\n",
              "      <th>2</th>\n",
              "      <td>Mozilla/4.0 (compatible; MSIE 8.0; Windows NT ...</td>\n",
              "      <td>US</td>\n",
              "      <td>1.0</td>\n",
              "      <td>America/New_York</td>\n",
              "      <td>DC</td>\n",
              "      <td>xxr3Qb</td>\n",
              "      <td>xxr3Qb</td>\n",
              "      <td>bitly</td>\n",
              "      <td>en-US</td>\n",
              "      <td>1.usa.gov</td>\n",
              "      <td>http://t.co/03elZC4Q</td>\n",
              "      <td>http://boxer.senate.gov/en/press/releases/0316...</td>\n",
              "      <td>1.331923e+09</td>\n",
              "      <td>1.331920e+09</td>\n",
              "      <td>Washington</td>\n",
              "      <td>[38.9007, -77.043098]</td>\n",
              "      <td>NaN</td>\n",
              "      <td>NaN</td>\n",
              "    </tr>\n",
              "    <tr>\n",
              "      <th>3</th>\n",
              "      <td>Mozilla/5.0 (Macintosh; Intel Mac OS X 10_6_8)...</td>\n",
              "      <td>BR</td>\n",
              "      <td>0.0</td>\n",
              "      <td>America/Sao_Paulo</td>\n",
              "      <td>27</td>\n",
              "      <td>zCaLwp</td>\n",
              "      <td>zUtuOu</td>\n",
              "      <td>alelex88</td>\n",
              "      <td>pt-br</td>\n",
              "      <td>1.usa.gov</td>\n",
              "      <td>direct</td>\n",
              "      <td>http://apod.nasa.gov/apod/ap120312.html</td>\n",
              "      <td>1.331923e+09</td>\n",
              "      <td>1.331923e+09</td>\n",
              "      <td>Braz</td>\n",
              "      <td>[-23.549999, -46.616699]</td>\n",
              "      <td>NaN</td>\n",
              "      <td>NaN</td>\n",
              "    </tr>\n",
              "    <tr>\n",
              "      <th>4</th>\n",
              "      <td>Mozilla/5.0 (Windows NT 6.1; WOW64) AppleWebKi...</td>\n",
              "      <td>US</td>\n",
              "      <td>0.0</td>\n",
              "      <td>America/New_York</td>\n",
              "      <td>MA</td>\n",
              "      <td>9b6kNl</td>\n",
              "      <td>9b6kNl</td>\n",
              "      <td>bitly</td>\n",
              "      <td>en-US,en;q=0.8</td>\n",
              "      <td>bit.ly</td>\n",
              "      <td>http://www.shrewsbury-ma.gov/selco/</td>\n",
              "      <td>http://www.shrewsbury-ma.gov/egov/gallery/1341...</td>\n",
              "      <td>1.331923e+09</td>\n",
              "      <td>1.273672e+09</td>\n",
              "      <td>Shrewsbury</td>\n",
              "      <td>[42.286499, -71.714699]</td>\n",
              "      <td>NaN</td>\n",
              "      <td>NaN</td>\n",
              "    </tr>\n",
              "    <tr>\n",
              "      <th>...</th>\n",
              "      <td>...</td>\n",
              "      <td>...</td>\n",
              "      <td>...</td>\n",
              "      <td>...</td>\n",
              "      <td>...</td>\n",
              "      <td>...</td>\n",
              "      <td>...</td>\n",
              "      <td>...</td>\n",
              "      <td>...</td>\n",
              "      <td>...</td>\n",
              "      <td>...</td>\n",
              "      <td>...</td>\n",
              "      <td>...</td>\n",
              "      <td>...</td>\n",
              "      <td>...</td>\n",
              "      <td>...</td>\n",
              "      <td>...</td>\n",
              "      <td>...</td>\n",
              "    </tr>\n",
              "    <tr>\n",
              "      <th>3555</th>\n",
              "      <td>Mozilla/4.0 (compatible; MSIE 9.0; Windows NT ...</td>\n",
              "      <td>US</td>\n",
              "      <td>1.0</td>\n",
              "      <td>America/New_York</td>\n",
              "      <td>NJ</td>\n",
              "      <td>e5SvKE</td>\n",
              "      <td>fqPSr9</td>\n",
              "      <td>tweetdeckapi</td>\n",
              "      <td>en</td>\n",
              "      <td>1.usa.gov</td>\n",
              "      <td>direct</td>\n",
              "      <td>http://www.fda.gov/AdvisoryCommittees/Committe...</td>\n",
              "      <td>1.331927e+09</td>\n",
              "      <td>1.301298e+09</td>\n",
              "      <td>Paramus</td>\n",
              "      <td>[40.9445, -74.07]</td>\n",
              "      <td>NaN</td>\n",
              "      <td>NaN</td>\n",
              "    </tr>\n",
              "    <tr>\n",
              "      <th>3556</th>\n",
              "      <td>Mozilla/5.0 (Windows NT 5.1) AppleWebKit/535.1...</td>\n",
              "      <td>US</td>\n",
              "      <td>0.0</td>\n",
              "      <td>America/Chicago</td>\n",
              "      <td>OK</td>\n",
              "      <td>jQLtP4</td>\n",
              "      <td>jQLtP4</td>\n",
              "      <td>bitly</td>\n",
              "      <td>en-US,en;q=0.8</td>\n",
              "      <td>1.usa.gov</td>\n",
              "      <td>http://www.facebook.com/l.php?u=http%3A%2F%2F1...</td>\n",
              "      <td>http://www.okc.gov/PublicNotificationSystem/Fo...</td>\n",
              "      <td>1.331927e+09</td>\n",
              "      <td>1.307530e+09</td>\n",
              "      <td>Oklahoma City</td>\n",
              "      <td>[35.4715, -97.518997]</td>\n",
              "      <td>NaN</td>\n",
              "      <td>NaN</td>\n",
              "    </tr>\n",
              "    <tr>\n",
              "      <th>3557</th>\n",
              "      <td>GoogleMaps/RochesterNY</td>\n",
              "      <td>US</td>\n",
              "      <td>0.0</td>\n",
              "      <td>America/Denver</td>\n",
              "      <td>UT</td>\n",
              "      <td>mwszkS</td>\n",
              "      <td>mwszkS</td>\n",
              "      <td>bitly</td>\n",
              "      <td>NaN</td>\n",
              "      <td>j.mp</td>\n",
              "      <td>http://www.AwareMap.com/</td>\n",
              "      <td>http://www.monroecounty.gov/etc/911/rss.php</td>\n",
              "      <td>1.331927e+09</td>\n",
              "      <td>1.308262e+09</td>\n",
              "      <td>Provo</td>\n",
              "      <td>[40.218102, -111.613297]</td>\n",
              "      <td>NaN</td>\n",
              "      <td>NaN</td>\n",
              "    </tr>\n",
              "    <tr>\n",
              "      <th>3558</th>\n",
              "      <td>GoogleProducer</td>\n",
              "      <td>US</td>\n",
              "      <td>0.0</td>\n",
              "      <td>America/Los_Angeles</td>\n",
              "      <td>CA</td>\n",
              "      <td>zjtI4X</td>\n",
              "      <td>zjtI4X</td>\n",
              "      <td>bitly</td>\n",
              "      <td>NaN</td>\n",
              "      <td>1.usa.gov</td>\n",
              "      <td>direct</td>\n",
              "      <td>http://www.ahrq.gov/qual/qitoolkit/</td>\n",
              "      <td>1.331927e+09</td>\n",
              "      <td>1.327529e+09</td>\n",
              "      <td>Mountain View</td>\n",
              "      <td>[37.419201, -122.057404]</td>\n",
              "      <td>NaN</td>\n",
              "      <td>NaN</td>\n",
              "    </tr>\n",
              "    <tr>\n",
              "      <th>3559</th>\n",
              "      <td>Mozilla/4.0 (compatible; MSIE 8.0; Windows NT ...</td>\n",
              "      <td>US</td>\n",
              "      <td>0.0</td>\n",
              "      <td>America/New_York</td>\n",
              "      <td>VA</td>\n",
              "      <td>qxKrTK</td>\n",
              "      <td>qxKrTK</td>\n",
              "      <td>bitly</td>\n",
              "      <td>en-US</td>\n",
              "      <td>1.usa.gov</td>\n",
              "      <td>http://t.co/OEEEvwjU</td>\n",
              "      <td>http://herndon-va.gov/Content/public_safety/Pu...</td>\n",
              "      <td>1.331927e+09</td>\n",
              "      <td>1.312898e+09</td>\n",
              "      <td>Mc Lean</td>\n",
              "      <td>[38.935799, -77.162102]</td>\n",
              "      <td>NaN</td>\n",
              "      <td>NaN</td>\n",
              "    </tr>\n",
              "  </tbody>\n",
              "</table>\n",
              "<p>3560 rows × 18 columns</p>\n",
              "</div>\n",
              "      <button class=\"colab-df-convert\" onclick=\"convertToInteractive('df-b6629b69-a636-4fa2-9ef8-25a132c3a414')\"\n",
              "              title=\"Convert this dataframe to an interactive table.\"\n",
              "              style=\"display:none;\">\n",
              "        \n",
              "  <svg xmlns=\"http://www.w3.org/2000/svg\" height=\"24px\"viewBox=\"0 0 24 24\"\n",
              "       width=\"24px\">\n",
              "    <path d=\"M0 0h24v24H0V0z\" fill=\"none\"/>\n",
              "    <path d=\"M18.56 5.44l.94 2.06.94-2.06 2.06-.94-2.06-.94-.94-2.06-.94 2.06-2.06.94zm-11 1L8.5 8.5l.94-2.06 2.06-.94-2.06-.94L8.5 2.5l-.94 2.06-2.06.94zm10 10l.94 2.06.94-2.06 2.06-.94-2.06-.94-.94-2.06-.94 2.06-2.06.94z\"/><path d=\"M17.41 7.96l-1.37-1.37c-.4-.4-.92-.59-1.43-.59-.52 0-1.04.2-1.43.59L10.3 9.45l-7.72 7.72c-.78.78-.78 2.05 0 2.83L4 21.41c.39.39.9.59 1.41.59.51 0 1.02-.2 1.41-.59l7.78-7.78 2.81-2.81c.8-.78.8-2.07 0-2.86zM5.41 20L4 18.59l7.72-7.72 1.47 1.35L5.41 20z\"/>\n",
              "  </svg>\n",
              "      </button>\n",
              "      \n",
              "  <style>\n",
              "    .colab-df-container {\n",
              "      display:flex;\n",
              "      flex-wrap:wrap;\n",
              "      gap: 12px;\n",
              "    }\n",
              "\n",
              "    .colab-df-convert {\n",
              "      background-color: #E8F0FE;\n",
              "      border: none;\n",
              "      border-radius: 50%;\n",
              "      cursor: pointer;\n",
              "      display: none;\n",
              "      fill: #1967D2;\n",
              "      height: 32px;\n",
              "      padding: 0 0 0 0;\n",
              "      width: 32px;\n",
              "    }\n",
              "\n",
              "    .colab-df-convert:hover {\n",
              "      background-color: #E2EBFA;\n",
              "      box-shadow: 0px 1px 2px rgba(60, 64, 67, 0.3), 0px 1px 3px 1px rgba(60, 64, 67, 0.15);\n",
              "      fill: #174EA6;\n",
              "    }\n",
              "\n",
              "    [theme=dark] .colab-df-convert {\n",
              "      background-color: #3B4455;\n",
              "      fill: #D2E3FC;\n",
              "    }\n",
              "\n",
              "    [theme=dark] .colab-df-convert:hover {\n",
              "      background-color: #434B5C;\n",
              "      box-shadow: 0px 1px 3px 1px rgba(0, 0, 0, 0.15);\n",
              "      filter: drop-shadow(0px 1px 2px rgba(0, 0, 0, 0.3));\n",
              "      fill: #FFFFFF;\n",
              "    }\n",
              "  </style>\n",
              "\n",
              "      <script>\n",
              "        const buttonEl =\n",
              "          document.querySelector('#df-b6629b69-a636-4fa2-9ef8-25a132c3a414 button.colab-df-convert');\n",
              "        buttonEl.style.display =\n",
              "          google.colab.kernel.accessAllowed ? 'block' : 'none';\n",
              "\n",
              "        async function convertToInteractive(key) {\n",
              "          const element = document.querySelector('#df-b6629b69-a636-4fa2-9ef8-25a132c3a414');\n",
              "          const dataTable =\n",
              "            await google.colab.kernel.invokeFunction('convertToInteractive',\n",
              "                                                     [key], {});\n",
              "          if (!dataTable) return;\n",
              "\n",
              "          const docLinkHtml = 'Like what you see? Visit the ' +\n",
              "            '<a target=\"_blank\" href=https://colab.research.google.com/notebooks/data_table.ipynb>data table notebook</a>'\n",
              "            + ' to learn more about interactive tables.';\n",
              "          element.innerHTML = '';\n",
              "          dataTable['output_type'] = 'display_data';\n",
              "          await google.colab.output.renderOutput(dataTable, element);\n",
              "          const docLink = document.createElement('div');\n",
              "          docLink.innerHTML = docLinkHtml;\n",
              "          element.appendChild(docLink);\n",
              "        }\n",
              "      </script>\n",
              "    </div>\n",
              "  </div>\n",
              "  "
            ]
          },
          "metadata": {},
          "execution_count": 18
        }
      ]
    },
    {
      "cell_type": "code",
      "source": [
        "frame.info()"
      ],
      "metadata": {
        "id": "5NtAOCFyt4IO",
        "outputId": "b2778c83-9a3f-42ab-c1a5-bd547570e086",
        "colab": {
          "base_uri": "https://localhost:8080/"
        }
      },
      "id": "5NtAOCFyt4IO",
      "execution_count": 21,
      "outputs": [
        {
          "output_type": "stream",
          "name": "stdout",
          "text": [
            "<class 'pandas.core.frame.DataFrame'>\n",
            "RangeIndex: 3560 entries, 0 to 3559\n",
            "Data columns (total 18 columns):\n",
            " #   Column       Non-Null Count  Dtype  \n",
            "---  ------       --------------  -----  \n",
            " 0   a            3440 non-null   object \n",
            " 1   c            2919 non-null   object \n",
            " 2   nk           3440 non-null   float64\n",
            " 3   tz           3440 non-null   object \n",
            " 4   gr           2919 non-null   object \n",
            " 5   g            3440 non-null   object \n",
            " 6   h            3440 non-null   object \n",
            " 7   l            3440 non-null   object \n",
            " 8   al           3094 non-null   object \n",
            " 9   hh           3440 non-null   object \n",
            " 10  r            3440 non-null   object \n",
            " 11  u            3440 non-null   object \n",
            " 12  t            3440 non-null   float64\n",
            " 13  hc           3440 non-null   float64\n",
            " 14  cy           2919 non-null   object \n",
            " 15  ll           2919 non-null   object \n",
            " 16  _heartbeat_  120 non-null    float64\n",
            " 17  kw           93 non-null     object \n",
            "dtypes: float64(4), object(14)\n",
            "memory usage: 500.8+ KB\n"
          ]
        }
      ]
    },
    {
      "cell_type": "code",
      "source": [
        "frame['tz'][:10]"
      ],
      "metadata": {
        "id": "DTrxKKeLt6Ym",
        "outputId": "86eccdb2-47c7-4b2f-f991-fba1055d4c07",
        "colab": {
          "base_uri": "https://localhost:8080/"
        }
      },
      "id": "DTrxKKeLt6Ym",
      "execution_count": 22,
      "outputs": [
        {
          "output_type": "execute_result",
          "data": {
            "text/plain": [
              "0     America/New_York\n",
              "1       America/Denver\n",
              "2     America/New_York\n",
              "3    America/Sao_Paulo\n",
              "4     America/New_York\n",
              "5     America/New_York\n",
              "6        Europe/Warsaw\n",
              "7                     \n",
              "8                     \n",
              "9                     \n",
              "Name: tz, dtype: object"
            ]
          },
          "metadata": {},
          "execution_count": 22
        }
      ]
    },
    {
      "cell_type": "code",
      "source": [
        "tz_counts = frame['tz'].value_counts()\n",
        "tz_counts[:10]"
      ],
      "metadata": {
        "id": "Y569qbOJt_x2",
        "outputId": "c65ff8f9-e0e3-43d2-c378-b9d425e28613",
        "colab": {
          "base_uri": "https://localhost:8080/"
        }
      },
      "id": "Y569qbOJt_x2",
      "execution_count": 27,
      "outputs": [
        {
          "output_type": "execute_result",
          "data": {
            "text/plain": [
              "America/New_York       1251\n",
              "                        521\n",
              "America/Chicago         400\n",
              "America/Los_Angeles     382\n",
              "America/Denver          191\n",
              "Europe/London            74\n",
              "Asia/Tokyo               37\n",
              "Pacific/Honolulu         36\n",
              "Europe/Madrid            35\n",
              "America/Sao_Paulo        33\n",
              "Name: tz, dtype: int64"
            ]
          },
          "metadata": {},
          "execution_count": 27
        }
      ]
    },
    {
      "cell_type": "code",
      "source": [
        "clean_tz = frame['tz'].fillna('Missing')\n",
        "clean_tz[clean_tz == ''] = 'Unknown'\n",
        "clean_tz.value_counts()"
      ],
      "metadata": {
        "id": "bYu-RXEnw7Aa",
        "outputId": "99f1e993-d38b-437a-afe7-1a4ca59fdcb6",
        "colab": {
          "base_uri": "https://localhost:8080/"
        }
      },
      "id": "bYu-RXEnw7Aa",
      "execution_count": 31,
      "outputs": [
        {
          "output_type": "execute_result",
          "data": {
            "text/plain": [
              "America/New_York        1251\n",
              "Unknown                  521\n",
              "America/Chicago          400\n",
              "America/Los_Angeles      382\n",
              "America/Denver           191\n",
              "                        ... \n",
              "Europe/Uzhgorod            1\n",
              "Australia/Queensland       1\n",
              "Europe/Sofia               1\n",
              "America/Costa_Rica         1\n",
              "America/Tegucigalpa        1\n",
              "Name: tz, Length: 98, dtype: int64"
            ]
          },
          "metadata": {},
          "execution_count": 31
        }
      ]
    },
    {
      "cell_type": "code",
      "source": [
        "import seaborn as sns\n",
        "subset = tz_counts[:10]\n",
        "sns.barplot(y = subset.index, x = subset.values)"
      ],
      "metadata": {
        "id": "XH2lKiPUydg2",
        "outputId": "082e279a-a9ad-417b-8fb0-e7066349aca4",
        "colab": {
          "base_uri": "https://localhost:8080/",
          "height": 283
        }
      },
      "id": "XH2lKiPUydg2",
      "execution_count": 32,
      "outputs": [
        {
          "output_type": "execute_result",
          "data": {
            "text/plain": [
              "<matplotlib.axes._subplots.AxesSubplot at 0x7f0709c04390>"
            ]
          },
          "metadata": {},
          "execution_count": 32
        },
        {
          "output_type": "display_data",
          "data": {
            "text/plain": [
              "<Figure size 432x288 with 1 Axes>"
            ],
            "image/png": "[encoded data removed]"
          },
          "metadata": {
            "needs_background": "light"
          }
        }
      ]
    },
    {
      "cell_type": "code",
      "source": [
        "frame['a'][1]"
      ],
      "metadata": {
        "id": "YvTg5o958ele",
        "outputId": "f71d0867-df68-46b8-b7b8-37c82553097f",
        "colab": {
          "base_uri": "https://localhost:8080/",
          "height": 35
        }
      },
      "id": "YvTg5o958ele",
      "execution_count": 57,
      "outputs": [
        {
          "output_type": "execute_result",
          "data": {
            "text/plain": [
              "'GoogleMaps/RochesterNY'"
            ],
            "application/vnd.google.colaboratory.intrinsic+json": {
              "type": "string"
            }
          },
          "metadata": {},
          "execution_count": 57
        }
      ]
    },
    {
      "cell_type": "code",
      "source": [
        "frame['a'][50]"
      ],
      "metadata": {
        "id": "N0MxhxmD8hSk",
        "outputId": "2e4d6bed-21f7-4e78-ea28-e5aa83892615",
        "colab": {
          "base_uri": "https://localhost:8080/",
          "height": 35
        }
      },
      "id": "N0MxhxmD8hSk",
      "execution_count": 58,
      "outputs": [
        {
          "output_type": "execute_result",
          "data": {
            "text/plain": [
              "'Mozilla/5.0 (Windows NT 5.1; rv:10.0.2) Gecko/20100101 Firefox/10.0.2'"
            ],
            "application/vnd.google.colaboratory.intrinsic+json": {
              "type": "string"
            }
          },
          "metadata": {},
          "execution_count": 58
        }
      ]
    },
    {
      "cell_type": "code",
      "source": [
        "frame['a'][51]"
      ],
      "metadata": {
        "id": "-mEUPBSV8l69",
        "outputId": "56ed0266-3a22-4e40-8065-7203e3346f4b",
        "colab": {
          "base_uri": "https://localhost:8080/",
          "height": 35
        }
      },
      "id": "-mEUPBSV8l69",
      "execution_count": 59,
      "outputs": [
        {
          "output_type": "execute_result",
          "data": {
            "text/plain": [
              "'Mozilla/5.0 (Linux; U; Android 2.2.2; en-us; LG-P925/V10e Build/FRG83G) AppleWebKit/533.1 (KHTML, like Gecko) Version/4.0 Mobile Safari/533.1'"
            ],
            "application/vnd.google.colaboratory.intrinsic+json": {
              "type": "string"
            }
          },
          "metadata": {},
          "execution_count": 59
        }
      ]
    },
    {
      "cell_type": "code",
      "source": [
        "results = pd.Series([x.split()[0] for x in frame.a.dropna()])\n",
        "results[:5]"
      ],
      "metadata": {
        "id": "BQ4hp-bh8m0m",
        "outputId": "feaedd46-fb76-4772-a9af-42d08268db46",
        "colab": {
          "base_uri": "https://localhost:8080/"
        }
      },
      "id": "BQ4hp-bh8m0m",
      "execution_count": 60,
      "outputs": [
        {
          "output_type": "execute_result",
          "data": {
            "text/plain": [
              "0               Mozilla/5.0\n",
              "1    GoogleMaps/RochesterNY\n",
              "2               Mozilla/4.0\n",
              "3               Mozilla/5.0\n",
              "4               Mozilla/5.0\n",
              "dtype: object"
            ]
          },
          "metadata": {},
          "execution_count": 60
        }
      ]
    },
    {
      "cell_type": "code",
      "source": [
        "results.value_counts()[:10]"
      ],
      "metadata": {
        "id": "zKDfVL0w83Zk",
        "outputId": "27ee56d9-f992-4107-fcd8-d74a72e8a7b7",
        "colab": {
          "base_uri": "https://localhost:8080/"
        }
      },
      "id": "zKDfVL0w83Zk",
      "execution_count": 61,
      "outputs": [
        {
          "output_type": "execute_result",
          "data": {
            "text/plain": [
              "Mozilla/5.0                 2594\n",
              "Mozilla/4.0                  601\n",
              "GoogleMaps/RochesterNY       121\n",
              "Opera/9.80                    34\n",
              "TEST_INTERNET_AGENT           24\n",
              "GoogleProducer                21\n",
              "Mozilla/6.0                    5\n",
              "BlackBerry8520/5.0.0.681       4\n",
              "BlackBerry8520/5.0.0.592       3\n",
              "Dalvik/1.4.0                   3\n",
              "dtype: int64"
            ]
          },
          "metadata": {},
          "execution_count": 61
        }
      ]
    },
    {
      "cell_type": "code",
      "source": [
        "cframe = frame[frame.a.notnull()]\n",
        "cframe"
      ],
      "metadata": {
        "id": "EjxPxQTr-I69",
        "outputId": "dfe01aaf-dca1-4541-a3b4-39e7237e18f8",
        "colab": {
          "base_uri": "https://localhost:8080/",
          "height": 696
        }
      },
      "id": "EjxPxQTr-I69",
      "execution_count": 62,
      "outputs": [
        {
          "output_type": "execute_result",
          "data": {
            "text/plain": [
              "                                                      a   c   nk  \\\n",
              "0     Mozilla/5.0 (Windows NT 6.1; WOW64) AppleWebKi...  US  1.0   \n",
              "1                                GoogleMaps/RochesterNY  US  0.0   \n",
              "2     Mozilla/4.0 (compatible; MSIE 8.0; Windows NT ...  US  1.0   \n",
              "3     Mozilla/5.0 (Macintosh; Intel Mac OS X 10_6_8)...  BR  0.0   \n",
              "4     Mozilla/5.0 (Windows NT 6.1; WOW64) AppleWebKi...  US  0.0   \n",
              "...                                                 ...  ..  ...   \n",
              "3555  Mozilla/4.0 (compatible; MSIE 9.0; Windows NT ...  US  1.0   \n",
              "3556  Mozilla/5.0 (Windows NT 5.1) AppleWebKit/535.1...  US  0.0   \n",
              "3557                             GoogleMaps/RochesterNY  US  0.0   \n",
              "3558                                     GoogleProducer  US  0.0   \n",
              "3559  Mozilla/4.0 (compatible; MSIE 8.0; Windows NT ...  US  0.0   \n",
              "\n",
              "                       tz  gr       g       h             l              al  \\\n",
              "0        America/New_York  MA  A6qOVH  wfLQtf       orofrog  en-US,en;q=0.8   \n",
              "1          America/Denver  UT  mwszkS  mwszkS         bitly             NaN   \n",
              "2        America/New_York  DC  xxr3Qb  xxr3Qb         bitly           en-US   \n",
              "3       America/Sao_Paulo  27  zCaLwp  zUtuOu      alelex88           pt-br   \n",
              "4        America/New_York  MA  9b6kNl  9b6kNl         bitly  en-US,en;q=0.8   \n",
              "...                   ...  ..     ...     ...           ...             ...   \n",
              "3555     America/New_York  NJ  e5SvKE  fqPSr9  tweetdeckapi              en   \n",
              "3556      America/Chicago  OK  jQLtP4  jQLtP4         bitly  en-US,en;q=0.8   \n",
              "3557       America/Denver  UT  mwszkS  mwszkS         bitly             NaN   \n",
              "3558  America/Los_Angeles  CA  zjtI4X  zjtI4X         bitly             NaN   \n",
              "3559     America/New_York  VA  qxKrTK  qxKrTK         bitly           en-US   \n",
              "\n",
              "             hh                                                  r  \\\n",
              "0     1.usa.gov  http://www.facebook.com/l/7AQEFzjSi/1.usa.gov/...   \n",
              "1          j.mp                           http://www.AwareMap.com/   \n",
              "2     1.usa.gov                               http://t.co/03elZC4Q   \n",
              "3     1.usa.gov                                             direct   \n",
              "4        bit.ly                http://www.shrewsbury-ma.gov/selco/   \n",
              "...         ...                                                ...   \n",
              "3555  1.usa.gov                                             direct   \n",
              "3556  1.usa.gov  http://www.facebook.com/l.php?u=http%3A%2F%2F1...   \n",
              "3557       j.mp                           http://www.AwareMap.com/   \n",
              "3558  1.usa.gov                                             direct   \n",
              "3559  1.usa.gov                               http://t.co/OEEEvwjU   \n",
              "\n",
              "                                                      u             t  \\\n",
              "0           http://www.ncbi.nlm.nih.gov/pubmed/22415991  1.331923e+09   \n",
              "1           http://www.monroecounty.gov/etc/911/rss.php  1.331923e+09   \n",
              "2     http://boxer.senate.gov/en/press/releases/0316...  1.331923e+09   \n",
              "3               http://apod.nasa.gov/apod/ap120312.html  1.331923e+09   \n",
              "4     http://www.shrewsbury-ma.gov/egov/gallery/1341...  1.331923e+09   \n",
              "...                                                 ...           ...   \n",
              "3555  http://www.fda.gov/AdvisoryCommittees/Committe...  1.331927e+09   \n",
              "3556  http://www.okc.gov/PublicNotificationSystem/Fo...  1.331927e+09   \n",
              "3557        http://www.monroecounty.gov/etc/911/rss.php  1.331927e+09   \n",
              "3558                http://www.ahrq.gov/qual/qitoolkit/  1.331927e+09   \n",
              "3559  http://herndon-va.gov/Content/public_safety/Pu...  1.331927e+09   \n",
              "\n",
              "                hc             cy                        ll  _heartbeat_   kw  \n",
              "0     1.331823e+09        Danvers   [42.576698, -70.954903]          NaN  NaN  \n",
              "1     1.308262e+09          Provo  [40.218102, -111.613297]          NaN  NaN  \n",
              "2     1.331920e+09     Washington     [38.9007, -77.043098]          NaN  NaN  \n",
              "3     1.331923e+09           Braz  [-23.549999, -46.616699]          NaN  NaN  \n",
              "4     1.273672e+09     Shrewsbury   [42.286499, -71.714699]          NaN  NaN  \n",
              "...            ...            ...                       ...          ...  ...  \n",
              "3555  1.301298e+09        Paramus         [40.9445, -74.07]          NaN  NaN  \n",
              "3556  1.307530e+09  Oklahoma City     [35.4715, -97.518997]          NaN  NaN  \n",
              "3557  1.308262e+09          Provo  [40.218102, -111.613297]          NaN  NaN  \n",
              "3558  1.327529e+09  Mountain View  [37.419201, -122.057404]          NaN  NaN  \n",
              "3559  1.312898e+09        Mc Lean   [38.935799, -77.162102]          NaN  NaN  \n",
              "\n",
              "[3440 rows x 18 columns]"
            ],
            "text/html": [
              "\n",
              "  <div id=\"df-5db934f2-d0d4-4063-85e4-fd90e67bf711\">\n",
              "    <div class=\"colab-df-container\">\n",
              "      <div>\n",
              "<style scoped>\n",
              "    .dataframe tbody tr th:only-of-type {\n",
              "        vertical-align: middle;\n",
              "    }\n",
              "\n",
              "    .dataframe tbody tr th {\n",
              "        vertical-align: top;\n",
              "    }\n",
              "\n",
              "    .dataframe thead th {\n",
              "        text-align: right;\n",
              "    }\n",
              "</style>\n",
              "<table border=\"1\" class=\"dataframe\">\n",
              "  <thead>\n",
              "    <tr style=\"text-align: right;\">\n",
              "      <th></th>\n",
              "      <th>a</th>\n",
              "      <th>c</th>\n",
              "      <th>nk</th>\n",
              "      <th>tz</th>\n",
              "      <th>gr</th>\n",
              "      <th>g</th>\n",
              "      <th>h</th>\n",
              "      <th>l</th>\n",
              "      <th>al</th>\n",
              "      <th>hh</th>\n",
              "      <th>r</th>\n",
              "      <th>u</th>\n",
              "      <th>t</th>\n",
              "      <th>hc</th>\n",
              "      <th>cy</th>\n",
              "      <th>ll</th>\n",
              "      <th>_heartbeat_</th>\n",
              "      <th>kw</th>\n",
              "    </tr>\n",
              "  </thead>\n",
              "  <tbody>\n",
              "    <tr>\n",
              "      <th>0</th>\n",
              "      <td>Mozilla/5.0 (Windows NT 6.1; WOW64) AppleWebKi...</td>\n",
              "      <td>US</td>\n",
              "      <td>1.0</td>\n",
              "      <td>America/New_York</td>\n",
              "      <td>MA</td>\n",
              "      <td>A6qOVH</td>\n",
              "      <td>wfLQtf</td>\n",
              "      <td>orofrog</td>\n",
              "      <td>en-US,en;q=0.8</td>\n",
              "      <td>1.usa.gov</td>\n",
              "      <td>http://www.facebook.com/l/7AQEFzjSi/1.usa.gov/...</td>\n",
              "      <td>http://www.ncbi.nlm.nih.gov/pubmed/22415991</td>\n",
              "      <td>1.331923e+09</td>\n",
              "      <td>1.331823e+09</td>\n",
              "      <td>Danvers</td>\n",
              "      <td>[42.576698, -70.954903]</td>\n",
              "      <td>NaN</td>\n",
              "      <td>NaN</td>\n",
              "    </tr>\n",
              "    <tr>\n",
              "      <th>1</th>\n",
              "      <td>GoogleMaps/RochesterNY</td>\n",
              "      <td>US</td>\n",
              "      <td>0.0</td>\n",
              "      <td>America/Denver</td>\n",
              "      <td>UT</td>\n",
              "      <td>mwszkS</td>\n",
              "      <td>mwszkS</td>\n",
              "      <td>bitly</td>\n",
              "      <td>NaN</td>\n",
              "      <td>j.mp</td>\n",
              "      <td>http://www.AwareMap.com/</td>\n",
              "      <td>http://www.monroecounty.gov/etc/911/rss.php</td>\n",
              "      <td>1.331923e+09</td>\n",
              "      <td>1.308262e+09</td>\n",
              "      <td>Provo</td>\n",
              "      <td>[40.218102, -111.613297]</td>\n",
              "      <td>NaN</td>\n",
              "      <td>NaN</td>\n",
              "    </tr>\n",
              "    <tr>\n",
              "      <th>2</th>\n",
              "      <td>Mozilla/4.0 (compatible; MSIE 8.0; Windows NT ...</td>\n",
              "      <td>US</td>\n",
              "      <td>1.0</td>\n",
              "      <td>America/New_York</td>\n",
              "      <td>DC</td>\n",
              "      <td>xxr3Qb</td>\n",
              "      <td>xxr3Qb</td>\n",
              "      <td>bitly</td>\n",
              "      <td>en-US</td>\n",
              "      <td>1.usa.gov</td>\n",
              "      <td>http://t.co/03elZC4Q</td>\n",
              "      <td>http://boxer.senate.gov/en/press/releases/0316...</td>\n",
              "      <td>1.331923e+09</td>\n",
              "      <td>1.331920e+09</td>\n",
              "      <td>Washington</td>\n",
              "      <td>[38.9007, -77.043098]</td>\n",
              "      <td>NaN</td>\n",
              "      <td>NaN</td>\n",
              "    </tr>\n",
              "    <tr>\n",
              "      <th>3</th>\n",
              "      <td>Mozilla/5.0 (Macintosh; Intel Mac OS X 10_6_8)...</td>\n",
              "      <td>BR</td>\n",
              "      <td>0.0</td>\n",
              "      <td>America/Sao_Paulo</td>\n",
              "      <td>27</td>\n",
              "      <td>zCaLwp</td>\n",
              "      <td>zUtuOu</td>\n",
              "      <td>alelex88</td>\n",
              "      <td>pt-br</td>\n",
              "      <td>1.usa.gov</td>\n",
              "      <td>direct</td>\n",
              "      <td>http://apod.nasa.gov/apod/ap120312.html</td>\n",
              "      <td>1.331923e+09</td>\n",
              "      <td>1.331923e+09</td>\n",
              "      <td>Braz</td>\n",
              "      <td>[-23.549999, -46.616699]</td>\n",
              "      <td>NaN</td>\n",
              "      <td>NaN</td>\n",
              "    </tr>\n",
              "    <tr>\n",
              "      <th>4</th>\n",
              "      <td>Mozilla/5.0 (Windows NT 6.1; WOW64) AppleWebKi...</td>\n",
              "      <td>US</td>\n",
              "      <td>0.0</td>\n",
              "      <td>America/New_York</td>\n",
              "      <td>MA</td>\n",
              "      <td>9b6kNl</td>\n",
              "      <td>9b6kNl</td>\n",
              "      <td>bitly</td>\n",
              "      <td>en-US,en;q=0.8</td>\n",
              "      <td>bit.ly</td>\n",
              "      <td>http://www.shrewsbury-ma.gov/selco/</td>\n",
              "      <td>http://www.shrewsbury-ma.gov/egov/gallery/1341...</td>\n",
              "      <td>1.331923e+09</td>\n",
              "      <td>1.273672e+09</td>\n",
              "      <td>Shrewsbury</td>\n",
              "      <td>[42.286499, -71.714699]</td>\n",
              "      <td>NaN</td>\n",
              "      <td>NaN</td>\n",
              "    </tr>\n",
              "    <tr>\n",
              "      <th>...</th>\n",
              "      <td>...</td>\n",
              "      <td>...</td>\n",
              "      <td>...</td>\n",
              "      <td>...</td>\n",
              "      <td>...</td>\n",
              "      <td>...</td>\n",
              "      <td>...</td>\n",
              "      <td>...</td>\n",
              "      <td>...</td>\n",
              "      <td>...</td>\n",
              "      <td>...</td>\n",
              "      <td>...</td>\n",
              "      <td>...</td>\n",
              "      <td>...</td>\n",
              "      <td>...</td>\n",
              "      <td>...</td>\n",
              "      <td>...</td>\n",
              "      <td>...</td>\n",
              "    </tr>\n",
              "    <tr>\n",
              "      <th>3555</th>\n",
              "      <td>Mozilla/4.0 (compatible; MSIE 9.0; Windows NT ...</td>\n",
              "      <td>US</td>\n",
              "      <td>1.0</td>\n",
              "      <td>America/New_York</td>\n",
              "      <td>NJ</td>\n",
              "      <td>e5SvKE</td>\n",
              "      <td>fqPSr9</td>\n",
              "      <td>tweetdeckapi</td>\n",
              "      <td>en</td>\n",
              "      <td>1.usa.gov</td>\n",
              "      <td>direct</td>\n",
              "      <td>http://www.fda.gov/AdvisoryCommittees/Committe...</td>\n",
              "      <td>1.331927e+09</td>\n",
              "      <td>1.301298e+09</td>\n",
              "      <td>Paramus</td>\n",
              "      <td>[40.9445, -74.07]</td>\n",
              "      <td>NaN</td>\n",
              "      <td>NaN</td>\n",
              "    </tr>\n",
              "    <tr>\n",
              "      <th>3556</th>\n",
              "      <td>Mozilla/5.0 (Windows NT 5.1) AppleWebKit/535.1...</td>\n",
              "      <td>US</td>\n",
              "      <td>0.0</td>\n",
              "      <td>America/Chicago</td>\n",
              "      <td>OK</td>\n",
              "      <td>jQLtP4</td>\n",
              "      <td>jQLtP4</td>\n",
              "      <td>bitly</td>\n",
              "      <td>en-US,en;q=0.8</td>\n",
              "      <td>1.usa.gov</td>\n",
              "      <td>http://www.facebook.com/l.php?u=http%3A%2F%2F1...</td>\n",
              "      <td>http://www.okc.gov/PublicNotificationSystem/Fo...</td>\n",
              "      <td>1.331927e+09</td>\n",
              "      <td>1.307530e+09</td>\n",
              "      <td>Oklahoma City</td>\n",
              "      <td>[35.4715, -97.518997]</td>\n",
              "      <td>NaN</td>\n",
              "      <td>NaN</td>\n",
              "    </tr>\n",
              "    <tr>\n",
              "      <th>3557</th>\n",
              "      <td>GoogleMaps/RochesterNY</td>\n",
              "      <td>US</td>\n",
              "      <td>0.0</td>\n",
              "      <td>America/Denver</td>\n",
              "      <td>UT</td>\n",
              "      <td>mwszkS</td>\n",
              "      <td>mwszkS</td>\n",
              "      <td>bitly</td>\n",
              "      <td>NaN</td>\n",
              "      <td>j.mp</td>\n",
              "      <td>http://www.AwareMap.com/</td>\n",
              "      <td>http://www.monroecounty.gov/etc/911/rss.php</td>\n",
              "      <td>1.331927e+09</td>\n",
              "      <td>1.308262e+09</td>\n",
              "      <td>Provo</td>\n",
              "      <td>[40.218102, -111.613297]</td>\n",
              "      <td>NaN</td>\n",
              "      <td>NaN</td>\n",
              "    </tr>\n",
              "    <tr>\n",
              "      <th>3558</th>\n",
              "      <td>GoogleProducer</td>\n",
              "      <td>US</td>\n",
              "      <td>0.0</td>\n",
              "      <td>America/Los_Angeles</td>\n",
              "      <td>CA</td>\n",
              "      <td>zjtI4X</td>\n",
              "      <td>zjtI4X</td>\n",
              "      <td>bitly</td>\n",
              "      <td>NaN</td>\n",
              "      <td>1.usa.gov</td>\n",
              "      <td>direct</td>\n",
              "      <td>http://www.ahrq.gov/qual/qitoolkit/</td>\n",
              "      <td>1.331927e+09</td>\n",
              "      <td>1.327529e+09</td>\n",
              "      <td>Mountain View</td>\n",
              "      <td>[37.419201, -122.057404]</td>\n",
              "      <td>NaN</td>\n",
              "      <td>NaN</td>\n",
              "    </tr>\n",
              "    <tr>\n",
              "      <th>3559</th>\n",
              "      <td>Mozilla/4.0 (compatible; MSIE 8.0; Windows NT ...</td>\n",
              "      <td>US</td>\n",
              "      <td>0.0</td>\n",
              "      <td>America/New_York</td>\n",
              "      <td>VA</td>\n",
              "      <td>qxKrTK</td>\n",
              "      <td>qxKrTK</td>\n",
              "      <td>bitly</td>\n",
              "      <td>en-US</td>\n",
              "      <td>1.usa.gov</td>\n",
              "      <td>http://t.co/OEEEvwjU</td>\n",
              "      <td>http://herndon-va.gov/Content/public_safety/Pu...</td>\n",
              "      <td>1.331927e+09</td>\n",
              "      <td>1.312898e+09</td>\n",
              "      <td>Mc Lean</td>\n",
              "      <td>[38.935799, -77.162102]</td>\n",
              "      <td>NaN</td>\n",
              "      <td>NaN</td>\n",
              "    </tr>\n",
              "  </tbody>\n",
              "</table>\n",
              "<p>3440 rows × 18 columns</p>\n",
              "</div>\n",
              "      <button class=\"colab-df-convert\" onclick=\"convertToInteractive('df-5db934f2-d0d4-4063-85e4-fd90e67bf711')\"\n",
              "              title=\"Convert this dataframe to an interactive table.\"\n",
              "              style=\"display:none;\">\n",
              "        \n",
              "  <svg xmlns=\"http://www.w3.org/2000/svg\" height=\"24px\"viewBox=\"0 0 24 24\"\n",
              "       width=\"24px\">\n",
              "    <path d=\"M0 0h24v24H0V0z\" fill=\"none\"/>\n",
              "    <path d=\"M18.56 5.44l.94 2.06.94-2.06 2.06-.94-2.06-.94-.94-2.06-.94 2.06-2.06.94zm-11 1L8.5 8.5l.94-2.06 2.06-.94-2.06-.94L8.5 2.5l-.94 2.06-2.06.94zm10 10l.94 2.06.94-2.06 2.06-.94-2.06-.94-.94-2.06-.94 2.06-2.06.94z\"/><path d=\"M17.41 7.96l-1.37-1.37c-.4-.4-.92-.59-1.43-.59-.52 0-1.04.2-1.43.59L10.3 9.45l-7.72 7.72c-.78.78-.78 2.05 0 2.83L4 21.41c.39.39.9.59 1.41.59.51 0 1.02-.2 1.41-.59l7.78-7.78 2.81-2.81c.8-.78.8-2.07 0-2.86zM5.41 20L4 18.59l7.72-7.72 1.47 1.35L5.41 20z\"/>\n",
              "  </svg>\n",
              "      </button>\n",
              "      \n",
              "  <style>\n",
              "    .colab-df-container {\n",
              "      display:flex;\n",
              "      flex-wrap:wrap;\n",
              "      gap: 12px;\n",
              "    }\n",
              "\n",
              "    .colab-df-convert {\n",
              "      background-color: #E8F0FE;\n",
              "      border: none;\n",
              "      border-radius: 50%;\n",
              "      cursor: pointer;\n",
              "      display: none;\n",
              "      fill: #1967D2;\n",
              "      height: 32px;\n",
              "      padding: 0 0 0 0;\n",
              "      width: 32px;\n",
              "    }\n",
              "\n",
              "    .colab-df-convert:hover {\n",
              "      background-color: #E2EBFA;\n",
              "      box-shadow: 0px 1px 2px rgba(60, 64, 67, 0.3), 0px 1px 3px 1px rgba(60, 64, 67, 0.15);\n",
              "      fill: #174EA6;\n",
              "    }\n",
              "\n",
              "    [theme=dark] .colab-df-convert {\n",
              "      background-color: #3B4455;\n",
              "      fill: #D2E3FC;\n",
              "    }\n",
              "\n",
              "    [theme=dark] .colab-df-convert:hover {\n",
              "      background-color: #434B5C;\n",
              "      box-shadow: 0px 1px 3px 1px rgba(0, 0, 0, 0.15);\n",
              "      filter: drop-shadow(0px 1px 2px rgba(0, 0, 0, 0.3));\n",
              "      fill: #FFFFFF;\n",
              "    }\n",
              "  </style>\n",
              "\n",
              "      <script>\n",
              "        const buttonEl =\n",
              "          document.querySelector('#df-5db934f2-d0d4-4063-85e4-fd90e67bf711 button.colab-df-convert');\n",
              "        buttonEl.style.display =\n",
              "          google.colab.kernel.accessAllowed ? 'block' : 'none';\n",
              "\n",
              "        async function convertToInteractive(key) {\n",
              "          const element = document.querySelector('#df-5db934f2-d0d4-4063-85e4-fd90e67bf711');\n",
              "          const dataTable =\n",
              "            await google.colab.kernel.invokeFunction('convertToInteractive',\n",
              "                                                     [key], {});\n",
              "          if (!dataTable) return;\n",
              "\n",
              "          const docLinkHtml = 'Like what you see? Visit the ' +\n",
              "            '<a target=\"_blank\" href=https://colab.research.google.com/notebooks/data_table.ipynb>data table notebook</a>'\n",
              "            + ' to learn more about interactive tables.';\n",
              "          element.innerHTML = '';\n",
              "          dataTable['output_type'] = 'display_data';\n",
              "          await google.colab.output.renderOutput(dataTable, element);\n",
              "          const docLink = document.createElement('div');\n",
              "          docLink.innerHTML = docLinkHtml;\n",
              "          element.appendChild(docLink);\n",
              "        }\n",
              "      </script>\n",
              "    </div>\n",
              "  </div>\n",
              "  "
            ]
          },
          "metadata": {},
          "execution_count": 62
        }
      ]
    },
    {
      "cell_type": "code",
      "source": [
        "cframe['os'] = np.where(cframe['a'].str.contains('Windows'), 'Windows', 'Now Windows')\n",
        "cframe['os'].value_counts()"
      ],
      "metadata": {
        "id": "HFSABtXd-vuR",
        "outputId": "3e156acb-1e80-429c-d90c-f575844454d7",
        "colab": {
          "base_uri": "https://localhost:8080/"
        }
      },
      "id": "HFSABtXd-vuR",
      "execution_count": 63,
      "outputs": [
        {
          "output_type": "stream",
          "name": "stderr",
          "text": [
            "/usr/local/lib/python3.7/dist-packages/ipykernel_launcher.py:1: SettingWithCopyWarning: \n",
            "A value is trying to be set on a copy of a slice from a DataFrame.\n",
            "Try using .loc[row_indexer,col_indexer] = value instead\n",
            "\n",
            "See the caveats in the documentation: https://pandas.pydata.org/pandas-docs/stable/user_guide/indexing.html#returning-a-view-versus-a-copy\n",
            "  \"\"\"Entry point for launching an IPython kernel.\n"
          ]
        },
        {
          "output_type": "execute_result",
          "data": {
            "text/plain": [
              "Windows        2246\n",
              "Now Windows    1194\n",
              "Name: os, dtype: int64"
            ]
          },
          "metadata": {},
          "execution_count": 63
        }
      ]
    },
    {
      "cell_type": "code",
      "source": [
        "by_tz_os = cframe.groupby(['tz', 'os'])\n",
        "by_tz_os"
      ],
      "metadata": {
        "id": "8FCUmRTI-6Pi",
        "outputId": "6ead8216-b43b-401e-eec6-41d258a2b429",
        "colab": {
          "base_uri": "https://localhost:8080/"
        }
      },
      "id": "8FCUmRTI-6Pi",
      "execution_count": 64,
      "outputs": [
        {
          "output_type": "execute_result",
          "data": {
            "text/plain": [
              "<pandas.core.groupby.generic.DataFrameGroupBy object at 0x7f0709330910>"
            ]
          },
          "metadata": {},
          "execution_count": 64
        }
      ]
    },
    {
      "cell_type": "code",
      "source": [
        "agg_counts = by_tz_os.size().unstack().fillna(0)\n",
        "agg_counts[:10]"
      ],
      "metadata": {
        "id": "pR9q0naB_hE_",
        "outputId": "c3bced20-31df-4864-cada-d05fbbce750a",
        "colab": {
          "base_uri": "https://localhost:8080/",
          "height": 394
        }
      },
      "id": "pR9q0naB_hE_",
      "execution_count": 65,
      "outputs": [
        {
          "output_type": "execute_result",
          "data": {
            "text/plain": [
              "os                              Now Windows  Windows\n",
              "tz                                                  \n",
              "                                      245.0    276.0\n",
              "Africa/Cairo                            0.0      3.0\n",
              "Africa/Casablanca                       0.0      1.0\n",
              "Africa/Ceuta                            0.0      2.0\n",
              "Africa/Johannesburg                     0.0      1.0\n",
              "Africa/Lusaka                           0.0      1.0\n",
              "America/Anchorage                       4.0      1.0\n",
              "America/Argentina/Buenos_Aires          1.0      0.0\n",
              "America/Argentina/Cordoba               0.0      1.0\n",
              "America/Argentina/Mendoza               0.0      1.0"
            ],
            "text/html": [
              "\n",
              "  <div id=\"df-a661df31-1a33-4ddc-a72f-e717fa621e7d\">\n",
              "    <div class=\"colab-df-container\">\n",
              "      <div>\n",
              "<style scoped>\n",
              "    .dataframe tbody tr th:only-of-type {\n",
              "        vertical-align: middle;\n",
              "    }\n",
              "\n",
              "    .dataframe tbody tr th {\n",
              "        vertical-align: top;\n",
              "    }\n",
              "\n",
              "    .dataframe thead th {\n",
              "        text-align: right;\n",
              "    }\n",
              "</style>\n",
              "<table border=\"1\" class=\"dataframe\">\n",
              "  <thead>\n",
              "    <tr style=\"text-align: right;\">\n",
              "      <th>os</th>\n",
              "      <th>Now Windows</th>\n",
              "      <th>Windows</th>\n",
              "    </tr>\n",
              "    <tr>\n",
              "      <th>tz</th>\n",
              "      <th></th>\n",
              "      <th></th>\n",
              "    </tr>\n",
              "  </thead>\n",
              "  <tbody>\n",
              "    <tr>\n",
              "      <th></th>\n",
              "      <td>245.0</td>\n",
              "      <td>276.0</td>\n",
              "    </tr>\n",
              "    <tr>\n",
              "      <th>Africa/Cairo</th>\n",
              "      <td>0.0</td>\n",
              "      <td>3.0</td>\n",
              "    </tr>\n",
              "    <tr>\n",
              "      <th>Africa/Casablanca</th>\n",
              "      <td>0.0</td>\n",
              "      <td>1.0</td>\n",
              "    </tr>\n",
              "    <tr>\n",
              "      <th>Africa/Ceuta</th>\n",
              "      <td>0.0</td>\n",
              "      <td>2.0</td>\n",
              "    </tr>\n",
              "    <tr>\n",
              "      <th>Africa/Johannesburg</th>\n",
              "      <td>0.0</td>\n",
              "      <td>1.0</td>\n",
              "    </tr>\n",
              "    <tr>\n",
              "      <th>Africa/Lusaka</th>\n",
              "      <td>0.0</td>\n",
              "      <td>1.0</td>\n",
              "    </tr>\n",
              "    <tr>\n",
              "      <th>America/Anchorage</th>\n",
              "      <td>4.0</td>\n",
              "      <td>1.0</td>\n",
              "    </tr>\n",
              "    <tr>\n",
              "      <th>America/Argentina/Buenos_Aires</th>\n",
              "      <td>1.0</td>\n",
              "      <td>0.0</td>\n",
              "    </tr>\n",
              "    <tr>\n",
              "      <th>America/Argentina/Cordoba</th>\n",
              "      <td>0.0</td>\n",
              "      <td>1.0</td>\n",
              "    </tr>\n",
              "    <tr>\n",
              "      <th>America/Argentina/Mendoza</th>\n",
              "      <td>0.0</td>\n",
              "      <td>1.0</td>\n",
              "    </tr>\n",
              "  </tbody>\n",
              "</table>\n",
              "</div>\n",
              "      <button class=\"colab-df-convert\" onclick=\"convertToInteractive('df-a661df31-1a33-4ddc-a72f-e717fa621e7d')\"\n",
              "              title=\"Convert this dataframe to an interactive table.\"\n",
              "              style=\"display:none;\">\n",
              "        \n",
              "  <svg xmlns=\"http://www.w3.org/2000/svg\" height=\"24px\"viewBox=\"0 0 24 24\"\n",
              "       width=\"24px\">\n",
              "    <path d=\"M0 0h24v24H0V0z\" fill=\"none\"/>\n",
              "    <path d=\"M18.56 5.44l.94 2.06.94-2.06 2.06-.94-2.06-.94-.94-2.06-.94 2.06-2.06.94zm-11 1L8.5 8.5l.94-2.06 2.06-.94-2.06-.94L8.5 2.5l-.94 2.06-2.06.94zm10 10l.94 2.06.94-2.06 2.06-.94-2.06-.94-.94-2.06-.94 2.06-2.06.94z\"/><path d=\"M17.41 7.96l-1.37-1.37c-.4-.4-.92-.59-1.43-.59-.52 0-1.04.2-1.43.59L10.3 9.45l-7.72 7.72c-.78.78-.78 2.05 0 2.83L4 21.41c.39.39.9.59 1.41.59.51 0 1.02-.2 1.41-.59l7.78-7.78 2.81-2.81c.8-.78.8-2.07 0-2.86zM5.41 20L4 18.59l7.72-7.72 1.47 1.35L5.41 20z\"/>\n",
              "  </svg>\n",
              "      </button>\n",
              "      \n",
              "  <style>\n",
              "    .colab-df-container {\n",
              "      display:flex;\n",
              "      flex-wrap:wrap;\n",
              "      gap: 12px;\n",
              "    }\n",
              "\n",
              "    .colab-df-convert {\n",
              "      background-color: #E8F0FE;\n",
              "      border: none;\n",
              "      border-radius: 50%;\n",
              "      cursor: pointer;\n",
              "      display: none;\n",
              "      fill: #1967D2;\n",
              "      height: 32px;\n",
              "      padding: 0 0 0 0;\n",
              "      width: 32px;\n",
              "    }\n",
              "\n",
              "    .colab-df-convert:hover {\n",
              "      background-color: #E2EBFA;\n",
              "      box-shadow: 0px 1px 2px rgba(60, 64, 67, 0.3), 0px 1px 3px 1px rgba(60, 64, 67, 0.15);\n",
              "      fill: #174EA6;\n",
              "    }\n",
              "\n",
              "    [theme=dark] .colab-df-convert {\n",
              "      background-color: #3B4455;\n",
              "      fill: #D2E3FC;\n",
              "    }\n",
              "\n",
              "    [theme=dark] .colab-df-convert:hover {\n",
              "      background-color: #434B5C;\n",
              "      box-shadow: 0px 1px 3px 1px rgba(0, 0, 0, 0.15);\n",
              "      filter: drop-shadow(0px 1px 2px rgba(0, 0, 0, 0.3));\n",
              "      fill: #FFFFFF;\n",
              "    }\n",
              "  </style>\n",
              "\n",
              "      <script>\n",
              "        const buttonEl =\n",
              "          document.querySelector('#df-a661df31-1a33-4ddc-a72f-e717fa621e7d button.colab-df-convert');\n",
              "        buttonEl.style.display =\n",
              "          google.colab.kernel.accessAllowed ? 'block' : 'none';\n",
              "\n",
              "        async function convertToInteractive(key) {\n",
              "          const element = document.querySelector('#df-a661df31-1a33-4ddc-a72f-e717fa621e7d');\n",
              "          const dataTable =\n",
              "            await google.colab.kernel.invokeFunction('convertToInteractive',\n",
              "                                                     [key], {});\n",
              "          if (!dataTable) return;\n",
              "\n",
              "          const docLinkHtml = 'Like what you see? Visit the ' +\n",
              "            '<a target=\"_blank\" href=https://colab.research.google.com/notebooks/data_table.ipynb>data table notebook</a>'\n",
              "            + ' to learn more about interactive tables.';\n",
              "          element.innerHTML = '';\n",
              "          dataTable['output_type'] = 'display_data';\n",
              "          await google.colab.output.renderOutput(dataTable, element);\n",
              "          const docLink = document.createElement('div');\n",
              "          docLink.innerHTML = docLinkHtml;\n",
              "          element.appendChild(docLink);\n",
              "        }\n",
              "      </script>\n",
              "    </div>\n",
              "  </div>\n",
              "  "
            ]
          },
          "metadata": {},
          "execution_count": 65
        }
      ]
    },
    {
      "cell_type": "code",
      "source": [
        "indexer = agg_counts.sum(1).argsort()\n",
        "indexer[:10]"
      ],
      "metadata": {
        "id": "zftaLdSzAFZK",
        "outputId": "d7513bf7-1d9a-4b54-f976-945f5a5dfa41",
        "colab": {
          "base_uri": "https://localhost:8080/"
        }
      },
      "id": "zftaLdSzAFZK",
      "execution_count": 66,
      "outputs": [
        {
          "output_type": "execute_result",
          "data": {
            "text/plain": [
              "tz\n",
              "                                  24\n",
              "Africa/Cairo                      20\n",
              "Africa/Casablanca                 21\n",
              "Africa/Ceuta                      92\n",
              "Africa/Johannesburg               87\n",
              "Africa/Lusaka                     53\n",
              "America/Anchorage                 54\n",
              "America/Argentina/Buenos_Aires    57\n",
              "America/Argentina/Cordoba         26\n",
              "America/Argentina/Mendoza         55\n",
              "dtype: int64"
            ]
          },
          "metadata": {},
          "execution_count": 66
        }
      ]
    },
    {
      "cell_type": "code",
      "source": [
        "count_subset = agg_counts.take(indexer[-10:])\n",
        "count_subset"
      ],
      "metadata": {
        "id": "1DT0Vq-NANGR",
        "outputId": "3634046e-4992-4dea-9fc3-1852f6e66211",
        "colab": {
          "base_uri": "https://localhost:8080/",
          "height": 394
        }
      },
      "id": "1DT0Vq-NANGR",
      "execution_count": 67,
      "outputs": [
        {
          "output_type": "execute_result",
          "data": {
            "text/plain": [
              "os                   Now Windows  Windows\n",
              "tz                                       \n",
              "America/Sao_Paulo           13.0     20.0\n",
              "Europe/Madrid               16.0     19.0\n",
              "Pacific/Honolulu             0.0     36.0\n",
              "Asia/Tokyo                   2.0     35.0\n",
              "Europe/London               43.0     31.0\n",
              "America/Denver             132.0     59.0\n",
              "America/Los_Angeles        130.0    252.0\n",
              "America/Chicago            115.0    285.0\n",
              "                           245.0    276.0\n",
              "America/New_York           339.0    912.0"
            ],
            "text/html": [
              "\n",
              "  <div id=\"df-81f129b6-547f-417c-a07f-a80a2c7c5ab0\">\n",
              "    <div class=\"colab-df-container\">\n",
              "      <div>\n",
              "<style scoped>\n",
              "    .dataframe tbody tr th:only-of-type {\n",
              "        vertical-align: middle;\n",
              "    }\n",
              "\n",
              "    .dataframe tbody tr th {\n",
              "        vertical-align: top;\n",
              "    }\n",
              "\n",
              "    .dataframe thead th {\n",
              "        text-align: right;\n",
              "    }\n",
              "</style>\n",
              "<table border=\"1\" class=\"dataframe\">\n",
              "  <thead>\n",
              "    <tr style=\"text-align: right;\">\n",
              "      <th>os</th>\n",
              "      <th>Now Windows</th>\n",
              "      <th>Windows</th>\n",
              "    </tr>\n",
              "    <tr>\n",
              "      <th>tz</th>\n",
              "      <th></th>\n",
              "      <th></th>\n",
              "    </tr>\n",
              "  </thead>\n",
              "  <tbody>\n",
              "    <tr>\n",
              "      <th>America/Sao_Paulo</th>\n",
              "      <td>13.0</td>\n",
              "      <td>20.0</td>\n",
              "    </tr>\n",
              "    <tr>\n",
              "      <th>Europe/Madrid</th>\n",
              "      <td>16.0</td>\n",
              "      <td>19.0</td>\n",
              "    </tr>\n",
              "    <tr>\n",
              "      <th>Pacific/Honolulu</th>\n",
              "      <td>0.0</td>\n",
              "      <td>36.0</td>\n",
              "    </tr>\n",
              "    <tr>\n",
              "      <th>Asia/Tokyo</th>\n",
              "      <td>2.0</td>\n",
              "      <td>35.0</td>\n",
              "    </tr>\n",
              "    <tr>\n",
              "      <th>Europe/London</th>\n",
              "      <td>43.0</td>\n",
              "      <td>31.0</td>\n",
              "    </tr>\n",
              "    <tr>\n",
              "      <th>America/Denver</th>\n",
              "      <td>132.0</td>\n",
              "      <td>59.0</td>\n",
              "    </tr>\n",
              "    <tr>\n",
              "      <th>America/Los_Angeles</th>\n",
              "      <td>130.0</td>\n",
              "      <td>252.0</td>\n",
              "    </tr>\n",
              "    <tr>\n",
              "      <th>America/Chicago</th>\n",
              "      <td>115.0</td>\n",
              "      <td>285.0</td>\n",
              "    </tr>\n",
              "    <tr>\n",
              "      <th></th>\n",
              "      <td>245.0</td>\n",
              "      <td>276.0</td>\n",
              "    </tr>\n",
              "    <tr>\n",
              "      <th>America/New_York</th>\n",
              "      <td>339.0</td>\n",
              "      <td>912.0</td>\n",
              "    </tr>\n",
              "  </tbody>\n",
              "</table>\n",
              "</div>\n",
              "      <button class=\"colab-df-convert\" onclick=\"convertToInteractive('df-81f129b6-547f-417c-a07f-a80a2c7c5ab0')\"\n",
              "              title=\"Convert this dataframe to an interactive table.\"\n",
              "              style=\"display:none;\">\n",
              "        \n",
              "  <svg xmlns=\"http://www.w3.org/2000/svg\" height=\"24px\"viewBox=\"0 0 24 24\"\n",
              "       width=\"24px\">\n",
              "    <path d=\"M0 0h24v24H0V0z\" fill=\"none\"/>\n",
              "    <path d=\"M18.56 5.44l.94 2.06.94-2.06 2.06-.94-2.06-.94-.94-2.06-.94 2.06-2.06.94zm-11 1L8.5 8.5l.94-2.06 2.06-.94-2.06-.94L8.5 2.5l-.94 2.06-2.06.94zm10 10l.94 2.06.94-2.06 2.06-.94-2.06-.94-.94-2.06-.94 2.06-2.06.94z\"/><path d=\"M17.41 7.96l-1.37-1.37c-.4-.4-.92-.59-1.43-.59-.52 0-1.04.2-1.43.59L10.3 9.45l-7.72 7.72c-.78.78-.78 2.05 0 2.83L4 21.41c.39.39.9.59 1.41.59.51 0 1.02-.2 1.41-.59l7.78-7.78 2.81-2.81c.8-.78.8-2.07 0-2.86zM5.41 20L4 18.59l7.72-7.72 1.47 1.35L5.41 20z\"/>\n",
              "  </svg>\n",
              "      </button>\n",
              "      \n",
              "  <style>\n",
              "    .colab-df-container {\n",
              "      display:flex;\n",
              "      flex-wrap:wrap;\n",
              "      gap: 12px;\n",
              "    }\n",
              "\n",
              "    .colab-df-convert {\n",
              "      background-color: #E8F0FE;\n",
              "      border: none;\n",
              "      border-radius: 50%;\n",
              "      cursor: pointer;\n",
              "      display: none;\n",
              "      fill: #1967D2;\n",
              "      height: 32px;\n",
              "      padding: 0 0 0 0;\n",
              "      width: 32px;\n",
              "    }\n",
              "\n",
              "    .colab-df-convert:hover {\n",
              "      background-color: #E2EBFA;\n",
              "      box-shadow: 0px 1px 2px rgba(60, 64, 67, 0.3), 0px 1px 3px 1px rgba(60, 64, 67, 0.15);\n",
              "      fill: #174EA6;\n",
              "    }\n",
              "\n",
              "    [theme=dark] .colab-df-convert {\n",
              "      background-color: #3B4455;\n",
              "      fill: #D2E3FC;\n",
              "    }\n",
              "\n",
              "    [theme=dark] .colab-df-convert:hover {\n",
              "      background-color: #434B5C;\n",
              "      box-shadow: 0px 1px 3px 1px rgba(0, 0, 0, 0.15);\n",
              "      filter: drop-shadow(0px 1px 2px rgba(0, 0, 0, 0.3));\n",
              "      fill: #FFFFFF;\n",
              "    }\n",
              "  </style>\n",
              "\n",
              "      <script>\n",
              "        const buttonEl =\n",
              "          document.querySelector('#df-81f129b6-547f-417c-a07f-a80a2c7c5ab0 button.colab-df-convert');\n",
              "        buttonEl.style.display =\n",
              "          google.colab.kernel.accessAllowed ? 'block' : 'none';\n",
              "\n",
              "        async function convertToInteractive(key) {\n",
              "          const element = document.querySelector('#df-81f129b6-547f-417c-a07f-a80a2c7c5ab0');\n",
              "          const dataTable =\n",
              "            await google.colab.kernel.invokeFunction('convertToInteractive',\n",
              "                                                     [key], {});\n",
              "          if (!dataTable) return;\n",
              "\n",
              "          const docLinkHtml = 'Like what you see? Visit the ' +\n",
              "            '<a target=\"_blank\" href=https://colab.research.google.com/notebooks/data_table.ipynb>data table notebook</a>'\n",
              "            + ' to learn more about interactive tables.';\n",
              "          element.innerHTML = '';\n",
              "          dataTable['output_type'] = 'display_data';\n",
              "          await google.colab.output.renderOutput(dataTable, element);\n",
              "          const docLink = document.createElement('div');\n",
              "          docLink.innerHTML = docLinkHtml;\n",
              "          element.appendChild(docLink);\n",
              "        }\n",
              "      </script>\n",
              "    </div>\n",
              "  </div>\n",
              "  "
            ]
          },
          "metadata": {},
          "execution_count": 67
        }
      ]
    },
    {
      "cell_type": "code",
      "source": [
        "agg_counts.sum(1).nlargest(10)"
      ],
      "metadata": {
        "id": "HjZlyStzQkaJ",
        "outputId": "b2128077-4a80-4886-a2a7-a197c7a473a1",
        "colab": {
          "base_uri": "https://localhost:8080/"
        }
      },
      "id": "HjZlyStzQkaJ",
      "execution_count": 68,
      "outputs": [
        {
          "output_type": "execute_result",
          "data": {
            "text/plain": [
              "tz\n",
              "America/New_York       1251.0\n",
              "                        521.0\n",
              "America/Chicago         400.0\n",
              "America/Los_Angeles     382.0\n",
              "America/Denver          191.0\n",
              "Europe/London            74.0\n",
              "Asia/Tokyo               37.0\n",
              "Pacific/Honolulu         36.0\n",
              "Europe/Madrid            35.0\n",
              "America/Sao_Paulo        33.0\n",
              "dtype: float64"
            ]
          },
          "metadata": {},
          "execution_count": 68
        }
      ]
    },
    {
      "cell_type": "code",
      "source": [
        "count_subset = count_subset.stack()\n",
        "count_subset.name = 'total'\n",
        "count_subset = count_subset.reset_index()\n",
        "count_subset[:10]"
      ],
      "metadata": {
        "id": "WtLoDFaxQseJ",
        "outputId": "81f66b9d-3c80-46d0-de69-50f0e714e32a",
        "colab": {
          "base_uri": "https://localhost:8080/",
          "height": 363
        }
      },
      "id": "WtLoDFaxQseJ",
      "execution_count": 69,
      "outputs": [
        {
          "output_type": "execute_result",
          "data": {
            "text/plain": [
              "                  tz           os  total\n",
              "0  America/Sao_Paulo  Now Windows   13.0\n",
              "1  America/Sao_Paulo      Windows   20.0\n",
              "2      Europe/Madrid  Now Windows   16.0\n",
              "3      Europe/Madrid      Windows   19.0\n",
              "4   Pacific/Honolulu  Now Windows    0.0\n",
              "5   Pacific/Honolulu      Windows   36.0\n",
              "6         Asia/Tokyo  Now Windows    2.0\n",
              "7         Asia/Tokyo      Windows   35.0\n",
              "8      Europe/London  Now Windows   43.0\n",
              "9      Europe/London      Windows   31.0"
            ],
            "text/html": [
              "\n",
              "  <div id=\"df-d1a18ab7-5fee-45c7-953d-a8eb756cca08\">\n",
              "    <div class=\"colab-df-container\">\n",
              "      <div>\n",
              "<style scoped>\n",
              "    .dataframe tbody tr th:only-of-type {\n",
              "        vertical-align: middle;\n",
              "    }\n",
              "\n",
              "    .dataframe tbody tr th {\n",
              "        vertical-align: top;\n",
              "    }\n",
              "\n",
              "    .dataframe thead th {\n",
              "        text-align: right;\n",
              "    }\n",
              "</style>\n",
              "<table border=\"1\" class=\"dataframe\">\n",
              "  <thead>\n",
              "    <tr style=\"text-align: right;\">\n",
              "      <th></th>\n",
              "      <th>tz</th>\n",
              "      <th>os</th>\n",
              "      <th>total</th>\n",
              "    </tr>\n",
              "  </thead>\n",
              "  <tbody>\n",
              "    <tr>\n",
              "      <th>0</th>\n",
              "      <td>America/Sao_Paulo</td>\n",
              "      <td>Now Windows</td>\n",
              "      <td>13.0</td>\n",
              "    </tr>\n",
              "    <tr>\n",
              "      <th>1</th>\n",
              "      <td>America/Sao_Paulo</td>\n",
              "      <td>Windows</td>\n",
              "      <td>20.0</td>\n",
              "    </tr>\n",
              "    <tr>\n",
              "      <th>2</th>\n",
              "      <td>Europe/Madrid</td>\n",
              "      <td>Now Windows</td>\n",
              "      <td>16.0</td>\n",
              "    </tr>\n",
              "    <tr>\n",
              "      <th>3</th>\n",
              "      <td>Europe/Madrid</td>\n",
              "      <td>Windows</td>\n",
              "      <td>19.0</td>\n",
              "    </tr>\n",
              "    <tr>\n",
              "      <th>4</th>\n",
              "      <td>Pacific/Honolulu</td>\n",
              "      <td>Now Windows</td>\n",
              "      <td>0.0</td>\n",
              "    </tr>\n",
              "    <tr>\n",
              "      <th>5</th>\n",
              "      <td>Pacific/Honolulu</td>\n",
              "      <td>Windows</td>\n",
              "      <td>36.0</td>\n",
              "    </tr>\n",
              "    <tr>\n",
              "      <th>6</th>\n",
              "      <td>Asia/Tokyo</td>\n",
              "      <td>Now Windows</td>\n",
              "      <td>2.0</td>\n",
              "    </tr>\n",
              "    <tr>\n",
              "      <th>7</th>\n",
              "      <td>Asia/Tokyo</td>\n",
              "      <td>Windows</td>\n",
              "      <td>35.0</td>\n",
              "    </tr>\n",
              "    <tr>\n",
              "      <th>8</th>\n",
              "      <td>Europe/London</td>\n",
              "      <td>Now Windows</td>\n",
              "      <td>43.0</td>\n",
              "    </tr>\n",
              "    <tr>\n",
              "      <th>9</th>\n",
              "      <td>Europe/London</td>\n",
              "      <td>Windows</td>\n",
              "      <td>31.0</td>\n",
              "    </tr>\n",
              "  </tbody>\n",
              "</table>\n",
              "</div>\n",
              "      <button class=\"colab-df-convert\" onclick=\"convertToInteractive('df-d1a18ab7-5fee-45c7-953d-a8eb756cca08')\"\n",
              "              title=\"Convert this dataframe to an interactive table.\"\n",
              "              style=\"display:none;\">\n",
              "        \n",
              "  <svg xmlns=\"http://www.w3.org/2000/svg\" height=\"24px\"viewBox=\"0 0 24 24\"\n",
              "       width=\"24px\">\n",
              "    <path d=\"M0 0h24v24H0V0z\" fill=\"none\"/>\n",
              "    <path d=\"M18.56 5.44l.94 2.06.94-2.06 2.06-.94-2.06-.94-.94-2.06-.94 2.06-2.06.94zm-11 1L8.5 8.5l.94-2.06 2.06-.94-2.06-.94L8.5 2.5l-.94 2.06-2.06.94zm10 10l.94 2.06.94-2.06 2.06-.94-2.06-.94-.94-2.06-.94 2.06-2.06.94z\"/><path d=\"M17.41 7.96l-1.37-1.37c-.4-.4-.92-.59-1.43-.59-.52 0-1.04.2-1.43.59L10.3 9.45l-7.72 7.72c-.78.78-.78 2.05 0 2.83L4 21.41c.39.39.9.59 1.41.59.51 0 1.02-.2 1.41-.59l7.78-7.78 2.81-2.81c.8-.78.8-2.07 0-2.86zM5.41 20L4 18.59l7.72-7.72 1.47 1.35L5.41 20z\"/>\n",
              "  </svg>\n",
              "      </button>\n",
              "      \n",
              "  <style>\n",
              "    .colab-df-container {\n",
              "      display:flex;\n",
              "      flex-wrap:wrap;\n",
              "      gap: 12px;\n",
              "    }\n",
              "\n",
              "    .colab-df-convert {\n",
              "      background-color: #E8F0FE;\n",
              "      border: none;\n",
              "      border-radius: 50%;\n",
              "      cursor: pointer;\n",
              "      display: none;\n",
              "      fill: #1967D2;\n",
              "      height: 32px;\n",
              "      padding: 0 0 0 0;\n",
              "      width: 32px;\n",
              "    }\n",
              "\n",
              "    .colab-df-convert:hover {\n",
              "      background-color: #E2EBFA;\n",
              "      box-shadow: 0px 1px 2px rgba(60, 64, 67, 0.3), 0px 1px 3px 1px rgba(60, 64, 67, 0.15);\n",
              "      fill: #174EA6;\n",
              "    }\n",
              "\n",
              "    [theme=dark] .colab-df-convert {\n",
              "      background-color: #3B4455;\n",
              "      fill: #D2E3FC;\n",
              "    }\n",
              "\n",
              "    [theme=dark] .colab-df-convert:hover {\n",
              "      background-color: #434B5C;\n",
              "      box-shadow: 0px 1px 3px 1px rgba(0, 0, 0, 0.15);\n",
              "      filter: drop-shadow(0px 1px 2px rgba(0, 0, 0, 0.3));\n",
              "      fill: #FFFFFF;\n",
              "    }\n",
              "  </style>\n",
              "\n",
              "      <script>\n",
              "        const buttonEl =\n",
              "          document.querySelector('#df-d1a18ab7-5fee-45c7-953d-a8eb756cca08 button.colab-df-convert');\n",
              "        buttonEl.style.display =\n",
              "          google.colab.kernel.accessAllowed ? 'block' : 'none';\n",
              "\n",
              "        async function convertToInteractive(key) {\n",
              "          const element = document.querySelector('#df-d1a18ab7-5fee-45c7-953d-a8eb756cca08');\n",
              "          const dataTable =\n",
              "            await google.colab.kernel.invokeFunction('convertToInteractive',\n",
              "                                                     [key], {});\n",
              "          if (!dataTable) return;\n",
              "\n",
              "          const docLinkHtml = 'Like what you see? Visit the ' +\n",
              "            '<a target=\"_blank\" href=https://colab.research.google.com/notebooks/data_table.ipynb>data table notebook</a>'\n",
              "            + ' to learn more about interactive tables.';\n",
              "          element.innerHTML = '';\n",
              "          dataTable['output_type'] = 'display_data';\n",
              "          await google.colab.output.renderOutput(dataTable, element);\n",
              "          const docLink = document.createElement('div');\n",
              "          docLink.innerHTML = docLinkHtml;\n",
              "          element.appendChild(docLink);\n",
              "        }\n",
              "      </script>\n",
              "    </div>\n",
              "  </div>\n",
              "  "
            ]
          },
          "metadata": {},
          "execution_count": 69
        }
      ]
    },
    {
      "cell_type": "code",
      "source": [
        "sns.barplot(x = 'total', y = 'tz', hue = 'os', data = count_subset)"
      ],
      "metadata": {
        "id": "H8oFWx73Q4PC",
        "outputId": "a16c7be6-f4db-4d06-ceed-dd881dd73c1c",
        "colab": {
          "base_uri": "https://localhost:8080/",
          "height": 297
        }
      },
      "id": "H8oFWx73Q4PC",
      "execution_count": 70,
      "outputs": [
        {
          "output_type": "execute_result",
          "data": {
            "text/plain": [
              "<matplotlib.axes._subplots.AxesSubplot at 0x7f0709673190>"
            ]
          },
          "metadata": {},
          "execution_count": 70
        },
        {
          "output_type": "display_data",
          "data": {
            "text/plain": [
              "<Figure size 432x288 with 1 Axes>"
            ],
            "image/png": "[encoded data removed]"
          },
          "metadata": {
            "needs_background": "light"
          }
        }
      ]
    },
    {
      "cell_type": "code",
      "source": [
        "def norm_total(group):\n",
        "  group['normed_total'] = group.total / group.total.sum()\n",
        "  return group\n",
        "\n",
        "results = count_subset.groupby('tz').apply(norm_total)\n",
        "results"
      ],
      "metadata": {
        "id": "RzwoAXSXRy5l",
        "outputId": "2c09bf04-3089-4728-864b-b37e1c490b68",
        "colab": {
          "base_uri": "https://localhost:8080/",
          "height": 676
        }
      },
      "id": "RzwoAXSXRy5l",
      "execution_count": 72,
      "outputs": [
        {
          "output_type": "execute_result",
          "data": {
            "text/plain": [
              "                     tz           os  total  normed_total\n",
              "0     America/Sao_Paulo  Now Windows   13.0      0.393939\n",
              "1     America/Sao_Paulo      Windows   20.0      0.606061\n",
              "2         Europe/Madrid  Now Windows   16.0      0.457143\n",
              "3         Europe/Madrid      Windows   19.0      0.542857\n",
              "4      Pacific/Honolulu  Now Windows    0.0      0.000000\n",
              "5      Pacific/Honolulu      Windows   36.0      1.000000\n",
              "6            Asia/Tokyo  Now Windows    2.0      0.054054\n",
              "7            Asia/Tokyo      Windows   35.0      0.945946\n",
              "8         Europe/London  Now Windows   43.0      0.581081\n",
              "9         Europe/London      Windows   31.0      0.418919\n",
              "10       America/Denver  Now Windows  132.0      0.691099\n",
              "11       America/Denver      Windows   59.0      0.308901\n",
              "12  America/Los_Angeles  Now Windows  130.0      0.340314\n",
              "13  America/Los_Angeles      Windows  252.0      0.659686\n",
              "14      America/Chicago  Now Windows  115.0      0.287500\n",
              "15      America/Chicago      Windows  285.0      0.712500\n",
              "16                       Now Windows  245.0      0.470250\n",
              "17                           Windows  276.0      0.529750\n",
              "18     America/New_York  Now Windows  339.0      0.270983\n",
              "19     America/New_York      Windows  912.0      0.729017"
            ],
            "text/html": [
              "\n",
              "  <div id=\"df-cb54e079-4398-4abc-a278-fdd9727fdbc4\">\n",
              "    <div class=\"colab-df-container\">\n",
              "      <div>\n",
              "<style scoped>\n",
              "    .dataframe tbody tr th:only-of-type {\n",
              "        vertical-align: middle;\n",
              "    }\n",
              "\n",
              "    .dataframe tbody tr th {\n",
              "        vertical-align: top;\n",
              "    }\n",
              "\n",
              "    .dataframe thead th {\n",
              "        text-align: right;\n",
              "    }\n",
              "</style>\n",
              "<table border=\"1\" class=\"dataframe\">\n",
              "  <thead>\n",
              "    <tr style=\"text-align: right;\">\n",
              "      <th></th>\n",
              "      <th>tz</th>\n",
              "      <th>os</th>\n",
              "      <th>total</th>\n",
              "      <th>normed_total</th>\n",
              "    </tr>\n",
              "  </thead>\n",
              "  <tbody>\n",
              "    <tr>\n",
              "      <th>0</th>\n",
              "      <td>America/Sao_Paulo</td>\n",
              "      <td>Now Windows</td>\n",
              "      <td>13.0</td>\n",
              "      <td>0.393939</td>\n",
              "    </tr>\n",
              "    <tr>\n",
              "      <th>1</th>\n",
              "      <td>America/Sao_Paulo</td>\n",
              "      <td>Windows</td>\n",
              "      <td>20.0</td>\n",
              "      <td>0.606061</td>\n",
              "    </tr>\n",
              "    <tr>\n",
              "      <th>2</th>\n",
              "      <td>Europe/Madrid</td>\n",
              "      <td>Now Windows</td>\n",
              "      <td>16.0</td>\n",
              "      <td>0.457143</td>\n",
              "    </tr>\n",
              "    <tr>\n",
              "      <th>3</th>\n",
              "      <td>Europe/Madrid</td>\n",
              "      <td>Windows</td>\n",
              "      <td>19.0</td>\n",
              "      <td>0.542857</td>\n",
              "    </tr>\n",
              "    <tr>\n",
              "      <th>4</th>\n",
              "      <td>Pacific/Honolulu</td>\n",
              "      <td>Now Windows</td>\n",
              "      <td>0.0</td>\n",
              "      <td>0.000000</td>\n",
              "    </tr>\n",
              "    <tr>\n",
              "      <th>5</th>\n",
              "      <td>Pacific/Honolulu</td>\n",
              "      <td>Windows</td>\n",
              "      <td>36.0</td>\n",
              "      <td>1.000000</td>\n",
              "    </tr>\n",
              "    <tr>\n",
              "      <th>6</th>\n",
              "      <td>Asia/Tokyo</td>\n",
              "      <td>Now Windows</td>\n",
              "      <td>2.0</td>\n",
              "      <td>0.054054</td>\n",
              "    </tr>\n",
              "    <tr>\n",
              "      <th>7</th>\n",
              "      <td>Asia/Tokyo</td>\n",
              "      <td>Windows</td>\n",
              "      <td>35.0</td>\n",
              "      <td>0.945946</td>\n",
              "    </tr>\n",
              "    <tr>\n",
              "      <th>8</th>\n",
              "      <td>Europe/London</td>\n",
              "      <td>Now Windows</td>\n",
              "      <td>43.0</td>\n",
              "      <td>0.581081</td>\n",
              "    </tr>\n",
              "    <tr>\n",
              "      <th>9</th>\n",
              "      <td>Europe/London</td>\n",
              "      <td>Windows</td>\n",
              "      <td>31.0</td>\n",
              "      <td>0.418919</td>\n",
              "    </tr>\n",
              "    <tr>\n",
              "      <th>10</th>\n",
              "      <td>America/Denver</td>\n",
              "      <td>Now Windows</td>\n",
              "      <td>132.0</td>\n",
              "      <td>0.691099</td>\n",
              "    </tr>\n",
              "    <tr>\n",
              "      <th>11</th>\n",
              "      <td>America/Denver</td>\n",
              "      <td>Windows</td>\n",
              "      <td>59.0</td>\n",
              "      <td>0.308901</td>\n",
              "    </tr>\n",
              "    <tr>\n",
              "      <th>12</th>\n",
              "      <td>America/Los_Angeles</td>\n",
              "      <td>Now Windows</td>\n",
              "      <td>130.0</td>\n",
              "      <td>0.340314</td>\n",
              "    </tr>\n",
              "    <tr>\n",
              "      <th>13</th>\n",
              "      <td>America/Los_Angeles</td>\n",
              "      <td>Windows</td>\n",
              "      <td>252.0</td>\n",
              "      <td>0.659686</td>\n",
              "    </tr>\n",
              "    <tr>\n",
              "      <th>14</th>\n",
              "      <td>America/Chicago</td>\n",
              "      <td>Now Windows</td>\n",
              "      <td>115.0</td>\n",
              "      <td>0.287500</td>\n",
              "    </tr>\n",
              "    <tr>\n",
              "      <th>15</th>\n",
              "      <td>America/Chicago</td>\n",
              "      <td>Windows</td>\n",
              "      <td>285.0</td>\n",
              "      <td>0.712500</td>\n",
              "    </tr>\n",
              "    <tr>\n",
              "      <th>16</th>\n",
              "      <td></td>\n",
              "      <td>Now Windows</td>\n",
              "      <td>245.0</td>\n",
              "      <td>0.470250</td>\n",
              "    </tr>\n",
              "    <tr>\n",
              "      <th>17</th>\n",
              "      <td></td>\n",
              "      <td>Windows</td>\n",
              "      <td>276.0</td>\n",
              "      <td>0.529750</td>\n",
              "    </tr>\n",
              "    <tr>\n",
              "      <th>18</th>\n",
              "      <td>America/New_York</td>\n",
              "      <td>Now Windows</td>\n",
              "      <td>339.0</td>\n",
              "      <td>0.270983</td>\n",
              "    </tr>\n",
              "    <tr>\n",
              "      <th>19</th>\n",
              "      <td>America/New_York</td>\n",
              "      <td>Windows</td>\n",
              "      <td>912.0</td>\n",
              "      <td>0.729017</td>\n",
              "    </tr>\n",
              "  </tbody>\n",
              "</table>\n",
              "</div>\n",
              "      <button class=\"colab-df-convert\" onclick=\"convertToInteractive('df-cb54e079-4398-4abc-a278-fdd9727fdbc4')\"\n",
              "              title=\"Convert this dataframe to an interactive table.\"\n",
              "              style=\"display:none;\">\n",
              "        \n",
              "  <svg xmlns=\"http://www.w3.org/2000/svg\" height=\"24px\"viewBox=\"0 0 24 24\"\n",
              "       width=\"24px\">\n",
              "    <path d=\"M0 0h24v24H0V0z\" fill=\"none\"/>\n",
              "    <path d=\"M18.56 5.44l.94 2.06.94-2.06 2.06-.94-2.06-.94-.94-2.06-.94 2.06-2.06.94zm-11 1L8.5 8.5l.94-2.06 2.06-.94-2.06-.94L8.5 2.5l-.94 2.06-2.06.94zm10 10l.94 2.06.94-2.06 2.06-.94-2.06-.94-.94-2.06-.94 2.06-2.06.94z\"/><path d=\"M17.41 7.96l-1.37-1.37c-.4-.4-.92-.59-1.43-.59-.52 0-1.04.2-1.43.59L10.3 9.45l-7.72 7.72c-.78.78-.78 2.05 0 2.83L4 21.41c.39.39.9.59 1.41.59.51 0 1.02-.2 1.41-.59l7.78-7.78 2.81-2.81c.8-.78.8-2.07 0-2.86zM5.41 20L4 18.59l7.72-7.72 1.47 1.35L5.41 20z\"/>\n",
              "  </svg>\n",
              "      </button>\n",
              "      \n",
              "  <style>\n",
              "    .colab-df-container {\n",
              "      display:flex;\n",
              "      flex-wrap:wrap;\n",
              "      gap: 12px;\n",
              "    }\n",
              "\n",
              "    .colab-df-convert {\n",
              "      background-color: #E8F0FE;\n",
              "      border: none;\n",
              "      border-radius: 50%;\n",
              "      cursor: pointer;\n",
              "      display: none;\n",
              "      fill: #1967D2;\n",
              "      height: 32px;\n",
              "      padding: 0 0 0 0;\n",
              "      width: 32px;\n",
              "    }\n",
              "\n",
              "    .colab-df-convert:hover {\n",
              "      background-color: #E2EBFA;\n",
              "      box-shadow: 0px 1px 2px rgba(60, 64, 67, 0.3), 0px 1px 3px 1px rgba(60, 64, 67, 0.15);\n",
              "      fill: #174EA6;\n",
              "    }\n",
              "\n",
              "    [theme=dark] .colab-df-convert {\n",
              "      background-color: #3B4455;\n",
              "      fill: #D2E3FC;\n",
              "    }\n",
              "\n",
              "    [theme=dark] .colab-df-convert:hover {\n",
              "      background-color: #434B5C;\n",
              "      box-shadow: 0px 1px 3px 1px rgba(0, 0, 0, 0.15);\n",
              "      filter: drop-shadow(0px 1px 2px rgba(0, 0, 0, 0.3));\n",
              "      fill: #FFFFFF;\n",
              "    }\n",
              "  </style>\n",
              "\n",
              "      <script>\n",
              "        const buttonEl =\n",
              "          document.querySelector('#df-cb54e079-4398-4abc-a278-fdd9727fdbc4 button.colab-df-convert');\n",
              "        buttonEl.style.display =\n",
              "          google.colab.kernel.accessAllowed ? 'block' : 'none';\n",
              "\n",
              "        async function convertToInteractive(key) {\n",
              "          const element = document.querySelector('#df-cb54e079-4398-4abc-a278-fdd9727fdbc4');\n",
              "          const dataTable =\n",
              "            await google.colab.kernel.invokeFunction('convertToInteractive',\n",
              "                                                     [key], {});\n",
              "          if (!dataTable) return;\n",
              "\n",
              "          const docLinkHtml = 'Like what you see? Visit the ' +\n",
              "            '<a target=\"_blank\" href=https://colab.research.google.com/notebooks/data_table.ipynb>data table notebook</a>'\n",
              "            + ' to learn more about interactive tables.';\n",
              "          element.innerHTML = '';\n",
              "          dataTable['output_type'] = 'display_data';\n",
              "          await google.colab.output.renderOutput(dataTable, element);\n",
              "          const docLink = document.createElement('div');\n",
              "          docLink.innerHTML = docLinkHtml;\n",
              "          element.appendChild(docLink);\n",
              "        }\n",
              "      </script>\n",
              "    </div>\n",
              "  </div>\n",
              "  "
            ]
          },
          "metadata": {},
          "execution_count": 72
        }
      ]
    },
    {
      "cell_type": "code",
      "source": [
        "sns.set_style(\"whitegrid\")\n",
        "sns.barplot(x = 'normed_total', y = 'tz', hue = 'os', data = results)"
      ],
      "metadata": {
        "id": "6ImNBmPBSGrN",
        "outputId": "0a2531c2-a579-441e-8d4b-8d62f4435824",
        "colab": {
          "base_uri": "https://localhost:8080/",
          "height": 298
        }
      },
      "id": "6ImNBmPBSGrN",
      "execution_count": 76,
      "outputs": [
        {
          "output_type": "execute_result",
          "data": {
            "text/plain": [
              "<matplotlib.axes._subplots.AxesSubplot at 0x7f0708e20b50>"
            ]
          },
          "metadata": {},
          "execution_count": 76
        },
        {
          "output_type": "display_data",
          "data": {
            "text/plain": [
              "<Figure size 432x288 with 1 Axes>"
            ],
            "image/png": "[encoded data removed]"
          },
          "metadata": {}
        }
      ]
    },
    {
      "cell_type": "code",
      "source": [
        "g = count_subset.groupby('tz')\n",
        "results2 = count_subset.total / g.total.transform('sum')\n",
        "results2"
      ],
      "metadata": {
        "id": "PGvZSeOsSRhl",
        "outputId": "7c57d3cb-6697-403a-b3fd-48f6b3101f9f",
        "colab": {
          "base_uri": "https://localhost:8080/"
        }
      },
      "id": "PGvZSeOsSRhl",
      "execution_count": 78,
      "outputs": [
        {
          "output_type": "execute_result",
          "data": {
            "text/plain": [
              "0     0.393939\n",
              "1     0.606061\n",
              "2     0.457143\n",
              "3     0.542857\n",
              "4     0.000000\n",
              "5     1.000000\n",
              "6     0.054054\n",
              "7     0.945946\n",
              "8     0.581081\n",
              "9     0.418919\n",
              "10    0.691099\n",
              "11    0.308901\n",
              "12    0.340314\n",
              "13    0.659686\n",
              "14    0.287500\n",
              "15    0.712500\n",
              "16    0.470250\n",
              "17    0.529750\n",
              "18    0.270983\n",
              "19    0.729017\n",
              "Name: total, dtype: float64"
            ]
          },
          "metadata": {},
          "execution_count": 78
        }
      ]
    },
    {
      "cell_type": "markdown",
      "source": [
        "#**14.2** MovieLens의 영화 평점 데이터"
      ],
      "metadata": {
        "id": "FC1g5n4YS5GV"
      },
      "id": "FC1g5n4YS5GV"
    },
    {
      "cell_type": "code",
      "source": [
        "pd.options.display.max_rows = 10\n",
        "unames = ['user_id', 'gender', 'age', 'occupation', 'zip']\n",
        "users = pd.read_table('/content/drive/MyDrive/pydata-book-3rd-edition/datasets/movielens/users.dat')\n",
        "\n",
        "rnames = ['user_id', 'movie_id', ]\n",
        "users = pd.read_table('/content/drive/MyDrive/pydata-book-3rd-edition/datasets/movielens/users.dat')\n",
        "\n",
        "\n",
        "users = pd.read_table('/content/drive/MyDrive/pydata-book-3rd-edition/datasets/movielens/users.dat')"
      ],
      "metadata": {
        "id": "ooGKIKfWTFB6"
      },
      "id": "ooGKIKfWTFB6",
      "execution_count": null,
      "outputs": []
    }
  ],
  "metadata": {
    "kernelspec": {
      "display_name": "Python 3 (ipykernel)",
      "language": "python",
      "name": "python3"
    },
    "language_info": {
      "codemirror_mode": {
        "name": "ipython",
        "version": 3
      },
      "file_extension": ".py",
      "mimetype": "text/x-python",
      "name": "python",
      "nbconvert_exporter": "python",
      "pygments_lexer": "ipython3",
      "version": "3.9.7"
    },
    "colab": {
      "name": "00. Untitled.ipynb",
      "provenance": [],
      "include_colab_link": true
    }
  },
  "nbformat": 4,
  "nbformat_minor": 5
}