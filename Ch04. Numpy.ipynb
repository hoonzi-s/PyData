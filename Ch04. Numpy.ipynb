{
  "cells": [
    {
      "cell_type": "markdown",
      "metadata": {
        "id": "view-in-github",
        "colab_type": "text"
      },
      "source": [
        "<a href=\"https://colab.research.google.com/github/hoonzi-s/PyData/blob/main/Ch04.%20Numpy.ipynb\" target=\"_parent\"><img src=\"https://colab.research.google.com/assets/colab-badge.svg\" alt=\"Open In Colab\"/></a>"
      ]
    },
    {
      "cell_type": "markdown",
      "source": [
        "# 4.1 Numpy ndarray: 다차원 배열 객체"
      ],
      "metadata": {
        "id": "01f25715"
      },
      "id": "01f25715"
    },
    {
      "cell_type": "code",
      "execution_count": 20,
      "id": "3a27df49",
      "metadata": {
        "id": "3a27df49"
      },
      "outputs": [],
      "source": [
        "import numpy as np"
      ]
    },
    {
      "cell_type": "code",
      "source": [
        "data = np.random.randn(2, 3)\n",
        "data"
      ],
      "metadata": {
        "id": "_srK4b05aIlu",
        "outputId": "408753ce-e00d-4cb6-fbef-551403a2136e",
        "colab": {
          "base_uri": "https://localhost:8080/"
        }
      },
      "id": "_srK4b05aIlu",
      "execution_count": 21,
      "outputs": [
        {
          "output_type": "execute_result",
          "data": {
            "text/plain": [
              "array([[-0.57222605, -1.52052327, -0.60129693],\n",
              "       [ 0.34628202, -0.47560647, -0.3260517 ]])"
            ]
          },
          "metadata": {},
          "execution_count": 21
        }
      ]
    },
    {
      "cell_type": "code",
      "source": [
        "data * 10"
      ],
      "metadata": {
        "id": "M3Y6a2gTaO-F",
        "outputId": "27fd9416-658b-4e7b-f7f5-090581b313aa",
        "colab": {
          "base_uri": "https://localhost:8080/"
        }
      },
      "id": "M3Y6a2gTaO-F",
      "execution_count": 23,
      "outputs": [
        {
          "output_type": "execute_result",
          "data": {
            "text/plain": [
              "array([[ -5.72226048, -15.20523271,  -6.01296925],\n",
              "       [  3.46282021,  -4.75606468,  -3.260517  ]])"
            ]
          },
          "metadata": {},
          "execution_count": 23
        }
      ]
    },
    {
      "cell_type": "code",
      "source": [
        "data + data"
      ],
      "metadata": {
        "id": "eCl5F-BcacKv",
        "outputId": "8a01ff03-9c49-46a8-9fdf-e0253712eaa7",
        "colab": {
          "base_uri": "https://localhost:8080/"
        }
      },
      "id": "eCl5F-BcacKv",
      "execution_count": 24,
      "outputs": [
        {
          "output_type": "execute_result",
          "data": {
            "text/plain": [
              "array([[-1.1444521 , -3.04104654, -1.20259385],\n",
              "       [ 0.69256404, -0.95121294, -0.6521034 ]])"
            ]
          },
          "metadata": {},
          "execution_count": 24
        }
      ]
    },
    {
      "cell_type": "code",
      "source": [
        "print(data.shape)\n",
        "print(data.dtype)"
      ],
      "metadata": {
        "id": "QRZKKBVDcbQl",
        "outputId": "3e647176-0fa6-4878-ed7f-f4faab5cd082",
        "colab": {
          "base_uri": "https://localhost:8080/"
        }
      },
      "id": "QRZKKBVDcbQl",
      "execution_count": 27,
      "outputs": [
        {
          "output_type": "stream",
          "name": "stdout",
          "text": [
            "(2, 3)\n",
            "float64\n"
          ]
        }
      ]
    },
    {
      "cell_type": "markdown",
      "source": [
        "## 4.1.1 ndarray 생성하기"
      ],
      "metadata": {
        "id": "OyOIjpkKccbN"
      },
      "id": "OyOIjpkKccbN"
    },
    {
      "cell_type": "code",
      "source": [
        "data1 = [6, 7.5, 8, 0, 1]\n",
        "arr1 = np.array(data1)\n",
        "arr1"
      ],
      "metadata": {
        "id": "dLwYqS5ClyaM",
        "outputId": "159a4549-7f6a-4e22-93c3-a19345df9343",
        "colab": {
          "base_uri": "https://localhost:8080/"
        }
      },
      "id": "dLwYqS5ClyaM",
      "execution_count": 29,
      "outputs": [
        {
          "output_type": "execute_result",
          "data": {
            "text/plain": [
              "array([6. , 7.5, 8. , 0. , 1. ])"
            ]
          },
          "metadata": {},
          "execution_count": 29
        }
      ]
    },
    {
      "cell_type": "code",
      "source": [
        "data2 = [[1, 2, 3, 4], [5, 6, 7, 8]]\n",
        "arr2 = np.array(data2)\n",
        "arr2"
      ],
      "metadata": {
        "id": "BmjFA-zJl8Yi",
        "outputId": "2dcee062-a7e1-41c2-91d1-fa162f717950",
        "colab": {
          "base_uri": "https://localhost:8080/"
        }
      },
      "id": "BmjFA-zJl8Yi",
      "execution_count": 30,
      "outputs": [
        {
          "output_type": "execute_result",
          "data": {
            "text/plain": [
              "array([[1, 2, 3, 4],\n",
              "       [5, 6, 7, 8]])"
            ]
          },
          "metadata": {},
          "execution_count": 30
        }
      ]
    },
    {
      "cell_type": "code",
      "source": [
        "arr2.ndim"
      ],
      "metadata": {
        "id": "ZKXPaYC74oji",
        "outputId": "73e365af-d7ab-4b67-a3e7-6c6d78e858f1",
        "colab": {
          "base_uri": "https://localhost:8080/"
        }
      },
      "id": "ZKXPaYC74oji",
      "execution_count": 31,
      "outputs": [
        {
          "output_type": "execute_result",
          "data": {
            "text/plain": [
              "2"
            ]
          },
          "metadata": {},
          "execution_count": 31
        }
      ]
    },
    {
      "cell_type": "code",
      "source": [
        "arr2.shape"
      ],
      "metadata": {
        "id": "rKu1ONSC4qLB",
        "outputId": "921f45de-d2c9-4574-a706-1389b2810f65",
        "colab": {
          "base_uri": "https://localhost:8080/"
        }
      },
      "id": "rKu1ONSC4qLB",
      "execution_count": 32,
      "outputs": [
        {
          "output_type": "execute_result",
          "data": {
            "text/plain": [
              "(2, 4)"
            ]
          },
          "metadata": {},
          "execution_count": 32
        }
      ]
    },
    {
      "cell_type": "code",
      "source": [
        "np.zeros((3, 6))"
      ],
      "metadata": {
        "id": "cr6ffB3d4q9R",
        "outputId": "1536434b-d5d2-4a07-dfd9-190eb0eed24b",
        "colab": {
          "base_uri": "https://localhost:8080/"
        }
      },
      "id": "cr6ffB3d4q9R",
      "execution_count": 33,
      "outputs": [
        {
          "output_type": "execute_result",
          "data": {
            "text/plain": [
              "array([[0., 0., 0., 0., 0., 0.],\n",
              "       [0., 0., 0., 0., 0., 0.],\n",
              "       [0., 0., 0., 0., 0., 0.]])"
            ]
          },
          "metadata": {},
          "execution_count": 33
        }
      ]
    },
    {
      "cell_type": "code",
      "source": [
        "np.ones((2, 3, 6))"
      ],
      "metadata": {
        "id": "cm8yAkrjKovf",
        "outputId": "33225df1-2d33-4e4f-d06c-ff57861fec9a",
        "colab": {
          "base_uri": "https://localhost:8080/"
        }
      },
      "id": "cm8yAkrjKovf",
      "execution_count": 34,
      "outputs": [
        {
          "output_type": "execute_result",
          "data": {
            "text/plain": [
              "array([[[1., 1., 1., 1., 1., 1.],\n",
              "        [1., 1., 1., 1., 1., 1.],\n",
              "        [1., 1., 1., 1., 1., 1.]],\n",
              "\n",
              "       [[1., 1., 1., 1., 1., 1.],\n",
              "        [1., 1., 1., 1., 1., 1.],\n",
              "        [1., 1., 1., 1., 1., 1.]]])"
            ]
          },
          "metadata": {},
          "execution_count": 34
        }
      ]
    },
    {
      "cell_type": "code",
      "source": [
        "np.arange(15)"
      ],
      "metadata": {
        "id": "gTd_dPmAKqqv",
        "outputId": "d61ec6b1-504d-4712-d367-e98472ac15a1",
        "colab": {
          "base_uri": "https://localhost:8080/"
        }
      },
      "id": "gTd_dPmAKqqv",
      "execution_count": 35,
      "outputs": [
        {
          "output_type": "execute_result",
          "data": {
            "text/plain": [
              "array([ 0,  1,  2,  3,  4,  5,  6,  7,  8,  9, 10, 11, 12, 13, 14])"
            ]
          },
          "metadata": {},
          "execution_count": 35
        }
      ]
    },
    {
      "cell_type": "markdown",
      "source": [
        "##4.1.3 Numpy 배열의 산술 연산"
      ],
      "metadata": {
        "id": "V-1VN0m7Kx4u"
      },
      "id": "V-1VN0m7Kx4u"
    },
    {
      "cell_type": "code",
      "source": [
        "# 벡터화\n",
        "arr = np.array([[1, 2, 3], [4, 5, 6]])\n",
        "arr"
      ],
      "metadata": {
        "id": "HQDpVwXTLcsw",
        "outputId": "b69cb5a4-8a5e-49c3-f695-64ade882e793",
        "colab": {
          "base_uri": "https://localhost:8080/"
        }
      },
      "id": "HQDpVwXTLcsw",
      "execution_count": 37,
      "outputs": [
        {
          "output_type": "execute_result",
          "data": {
            "text/plain": [
              "array([[1, 2, 3],\n",
              "       [4, 5, 6]])"
            ]
          },
          "metadata": {},
          "execution_count": 37
        }
      ]
    },
    {
      "cell_type": "code",
      "source": [
        "arr * arr"
      ],
      "metadata": {
        "id": "mEraZ8ULLhzf",
        "outputId": "b9e232db-fbc2-44bc-ca5a-875265ae5525",
        "colab": {
          "base_uri": "https://localhost:8080/"
        }
      },
      "id": "mEraZ8ULLhzf",
      "execution_count": 38,
      "outputs": [
        {
          "output_type": "execute_result",
          "data": {
            "text/plain": [
              "array([[ 1,  4,  9],\n",
              "       [16, 25, 36]])"
            ]
          },
          "metadata": {},
          "execution_count": 38
        }
      ]
    },
    {
      "cell_type": "code",
      "source": [
        "1/arr"
      ],
      "metadata": {
        "id": "5RmXgQnKLmi_",
        "outputId": "47d00ab4-2401-4d11-f4b9-0e1e80681e99",
        "colab": {
          "base_uri": "https://localhost:8080/"
        }
      },
      "id": "5RmXgQnKLmi_",
      "execution_count": 39,
      "outputs": [
        {
          "output_type": "execute_result",
          "data": {
            "text/plain": [
              "array([[1.        , 0.5       , 0.33333333],\n",
              "       [0.25      , 0.2       , 0.16666667]])"
            ]
          },
          "metadata": {},
          "execution_count": 39
        }
      ]
    },
    {
      "cell_type": "code",
      "source": [
        "arr2 = np.array([[0, 4, 1], [7, 2, 12]])\n",
        "arr2"
      ],
      "metadata": {
        "id": "Pn-o2mFmLnjf",
        "outputId": "fabb75df-bfe9-45d7-d119-dd1b96d2be7b",
        "colab": {
          "base_uri": "https://localhost:8080/"
        }
      },
      "id": "Pn-o2mFmLnjf",
      "execution_count": 40,
      "outputs": [
        {
          "output_type": "execute_result",
          "data": {
            "text/plain": [
              "array([[ 0,  4,  1],\n",
              "       [ 7,  2, 12]])"
            ]
          },
          "metadata": {},
          "execution_count": 40
        }
      ]
    },
    {
      "cell_type": "code",
      "source": [
        "arr2 > arr"
      ],
      "metadata": {
        "id": "tS_E_ZlLLr2w",
        "outputId": "46b0f8fa-f091-4da4-d22a-21c8d7421738",
        "colab": {
          "base_uri": "https://localhost:8080/"
        }
      },
      "id": "tS_E_ZlLLr2w",
      "execution_count": 41,
      "outputs": [
        {
          "output_type": "execute_result",
          "data": {
            "text/plain": [
              "array([[False,  True, False],\n",
              "       [ True, False,  True]])"
            ]
          },
          "metadata": {},
          "execution_count": 41
        }
      ]
    },
    {
      "cell_type": "markdown",
      "source": [
        "##4.1.4 색인과 슬라이싱 기초"
      ],
      "metadata": {
        "id": "5u_8AcoOLsVe"
      },
      "id": "5u_8AcoOLsVe"
    },
    {
      "cell_type": "code",
      "source": [
        "arr = np.arange(10)\n",
        "arr"
      ],
      "metadata": {
        "id": "9zV8c6BdL5tw",
        "outputId": "5be1c068-9686-4847-8288-e0f3619c0229",
        "colab": {
          "base_uri": "https://localhost:8080/"
        }
      },
      "id": "9zV8c6BdL5tw",
      "execution_count": 43,
      "outputs": [
        {
          "output_type": "execute_result",
          "data": {
            "text/plain": [
              "array([0, 1, 2, 3, 4, 5, 6, 7, 8, 9])"
            ]
          },
          "metadata": {},
          "execution_count": 43
        }
      ]
    },
    {
      "cell_type": "code",
      "source": [
        "arr_slice = arr[5:8]"
      ],
      "metadata": {
        "id": "runX2MWQL7jH"
      },
      "id": "runX2MWQL7jH",
      "execution_count": 45,
      "outputs": []
    },
    {
      "cell_type": "code",
      "source": [
        "arr_slice[1] = 12345\n",
        "arr_slice"
      ],
      "metadata": {
        "id": "f3jFURzjL_BX",
        "outputId": "68085cd9-d6a9-4886-a325-118b82f32b47",
        "colab": {
          "base_uri": "https://localhost:8080/"
        }
      },
      "id": "f3jFURzjL_BX",
      "execution_count": 46,
      "outputs": [
        {
          "output_type": "execute_result",
          "data": {
            "text/plain": [
              "array([    5, 12345,     7])"
            ]
          },
          "metadata": {},
          "execution_count": 46
        }
      ]
    },
    {
      "cell_type": "code",
      "source": [
        "arr"
      ],
      "metadata": {
        "id": "r_awmfuQMD6g",
        "outputId": "f08ebf69-37a7-4c23-f49b-4273b466a82e",
        "colab": {
          "base_uri": "https://localhost:8080/"
        }
      },
      "id": "r_awmfuQMD6g",
      "execution_count": 47,
      "outputs": [
        {
          "output_type": "execute_result",
          "data": {
            "text/plain": [
              "array([    0,     1,     2,     3,     4,     5, 12345,     7,     8,\n",
              "           9])"
            ]
          },
          "metadata": {},
          "execution_count": 47
        }
      ]
    },
    {
      "cell_type": "code",
      "source": [
        "arr_slice2 = arr[:5].copy()\n",
        "arr_slice2[1] = 234\n",
        "print(arr_slice2)\n",
        "print(arr)"
      ],
      "metadata": {
        "id": "hmDPoJdeMEU4",
        "outputId": "81dda6a3-2ad5-49b2-8ea5-0e21a8f78719",
        "colab": {
          "base_uri": "https://localhost:8080/"
        }
      },
      "id": "hmDPoJdeMEU4",
      "execution_count": 48,
      "outputs": [
        {
          "output_type": "stream",
          "name": "stdout",
          "text": [
            "[  0 234   2   3   4]\n",
            "[    0     1     2     3     4     5 12345     7     8     9]\n"
          ]
        }
      ]
    },
    {
      "cell_type": "code",
      "source": [
        "arr2d = np.arange(1, 10).reshape(3, 3)\n",
        "arr2d"
      ],
      "metadata": {
        "id": "y5EFbzMOMS9F",
        "outputId": "01fd1c44-dfac-4eea-b8f0-326a94bdc541",
        "colab": {
          "base_uri": "https://localhost:8080/"
        }
      },
      "id": "y5EFbzMOMS9F",
      "execution_count": 50,
      "outputs": [
        {
          "output_type": "execute_result",
          "data": {
            "text/plain": [
              "array([[1, 2, 3],\n",
              "       [4, 5, 6],\n",
              "       [7, 8, 9]])"
            ]
          },
          "metadata": {},
          "execution_count": 50
        }
      ]
    },
    {
      "cell_type": "code",
      "source": [
        "arr2d[0][2] == arr2d[0, 2]"
      ],
      "metadata": {
        "id": "vUjzXUadNIog",
        "outputId": "6c1c0517-6413-4454-f2d2-223212c3872e",
        "colab": {
          "base_uri": "https://localhost:8080/"
        }
      },
      "id": "vUjzXUadNIog",
      "execution_count": 53,
      "outputs": [
        {
          "output_type": "execute_result",
          "data": {
            "text/plain": [
              "True"
            ]
          },
          "metadata": {},
          "execution_count": 53
        }
      ]
    },
    {
      "cell_type": "code",
      "source": [
        "arr3d = np.arange(12).reshape(2, 2, -1) + 1\n",
        "arr3d"
      ],
      "metadata": {
        "id": "ou-9zDQNNWK4",
        "outputId": "d01529e8-0395-4871-80d0-d693b5bbe7e5",
        "colab": {
          "base_uri": "https://localhost:8080/"
        }
      },
      "id": "ou-9zDQNNWK4",
      "execution_count": 58,
      "outputs": [
        {
          "output_type": "execute_result",
          "data": {
            "text/plain": [
              "array([[[ 1,  2,  3],\n",
              "        [ 4,  5,  6]],\n",
              "\n",
              "       [[ 7,  8,  9],\n",
              "        [10, 11, 12]]])"
            ]
          },
          "metadata": {},
          "execution_count": 58
        }
      ]
    },
    {
      "cell_type": "code",
      "source": [
        "arr2d[:2, 1:]"
      ],
      "metadata": {
        "id": "8fViVmN4NjRY",
        "outputId": "d75305ce-e294-4a8e-fb0f-34a22ca1ee9e",
        "colab": {
          "base_uri": "https://localhost:8080/"
        }
      },
      "id": "8fViVmN4NjRY",
      "execution_count": 59,
      "outputs": [
        {
          "output_type": "execute_result",
          "data": {
            "text/plain": [
              "array([[2, 3],\n",
              "       [5, 6]])"
            ]
          },
          "metadata": {},
          "execution_count": 59
        }
      ]
    },
    {
      "cell_type": "markdown",
      "source": [
        "##4.1.5 불리언 값으로 선택하기"
      ],
      "metadata": {
        "id": "oG0R4LzbOv1R"
      },
      "id": "oG0R4LzbOv1R"
    },
    {
      "cell_type": "code",
      "source": [
        "names = np.array(['Bob', 'Joe', 'Will', 'Bob', 'Will', 'Joe', 'Joe'])\n",
        "data = np.random.randn(7, 4)\n",
        "names"
      ],
      "metadata": {
        "id": "RjCTatK2O-f8",
        "outputId": "41ae0761-bda9-4c92-82be-056e0f40d60d",
        "colab": {
          "base_uri": "https://localhost:8080/"
        }
      },
      "id": "RjCTatK2O-f8",
      "execution_count": 60,
      "outputs": [
        {
          "output_type": "execute_result",
          "data": {
            "text/plain": [
              "array(['Bob', 'Joe', 'Will', 'Bob', 'Will', 'Joe', 'Joe'], dtype='<U4')"
            ]
          },
          "metadata": {},
          "execution_count": 60
        }
      ]
    },
    {
      "cell_type": "code",
      "source": [
        "data"
      ],
      "metadata": {
        "id": "8EcrAiDtPJUi",
        "outputId": "be6b8322-ff8f-4af1-f3d8-41d9e0302bff",
        "colab": {
          "base_uri": "https://localhost:8080/"
        }
      },
      "id": "8EcrAiDtPJUi",
      "execution_count": 61,
      "outputs": [
        {
          "output_type": "execute_result",
          "data": {
            "text/plain": [
              "array([[-0.16992228, -0.46208697,  0.04525898, -2.37521966],\n",
              "       [ 0.66989827,  1.23145162,  0.20581847,  1.02864468],\n",
              "       [-0.7795464 ,  0.25377815,  0.308802  , -0.33871424],\n",
              "       [-0.53872495,  1.07625638, -2.02276021, -1.91831734],\n",
              "       [ 0.76060404,  0.23366233, -0.76625179,  0.26148398],\n",
              "       [-0.55061824, -0.01196343, -1.11694457, -0.11521576],\n",
              "       [-2.39562559,  0.04293124, -0.01702152,  0.48146772]])"
            ]
          },
          "metadata": {},
          "execution_count": 61
        }
      ]
    },
    {
      "cell_type": "code",
      "source": [
        "data[names == 'Bob']"
      ],
      "metadata": {
        "id": "6FQTtCZrPKZ6",
        "outputId": "7f033caf-f99f-4bc0-fca5-78746d54d901",
        "colab": {
          "base_uri": "https://localhost:8080/"
        }
      },
      "id": "6FQTtCZrPKZ6",
      "execution_count": 62,
      "outputs": [
        {
          "output_type": "execute_result",
          "data": {
            "text/plain": [
              "array([[-0.16992228, -0.46208697,  0.04525898, -2.37521966],\n",
              "       [-0.53872495,  1.07625638, -2.02276021, -1.91831734]])"
            ]
          },
          "metadata": {},
          "execution_count": 62
        }
      ]
    },
    {
      "cell_type": "code",
      "source": [
        "data[names == 'Bob', 2:]"
      ],
      "metadata": {
        "id": "KPR4MNHJPPHe",
        "outputId": "afae01bf-5c86-49ac-efcb-bfa5e3fa6f9a",
        "colab": {
          "base_uri": "https://localhost:8080/"
        }
      },
      "id": "KPR4MNHJPPHe",
      "execution_count": 63,
      "outputs": [
        {
          "output_type": "execute_result",
          "data": {
            "text/plain": [
              "array([[ 0.04525898, -2.37521966],\n",
              "       [-2.02276021, -1.91831734]])"
            ]
          },
          "metadata": {},
          "execution_count": 63
        }
      ]
    },
    {
      "cell_type": "code",
      "source": [
        "data[names != 'Bob']"
      ],
      "metadata": {
        "id": "4A4X4X9YPU68",
        "outputId": "ef6a6945-fa27-4bf1-fea0-b7d287d6c235",
        "colab": {
          "base_uri": "https://localhost:8080/"
        }
      },
      "id": "4A4X4X9YPU68",
      "execution_count": 65,
      "outputs": [
        {
          "output_type": "execute_result",
          "data": {
            "text/plain": [
              "array([[ 0.66989827,  1.23145162,  0.20581847,  1.02864468],\n",
              "       [-0.7795464 ,  0.25377815,  0.308802  , -0.33871424],\n",
              "       [ 0.76060404,  0.23366233, -0.76625179,  0.26148398],\n",
              "       [-0.55061824, -0.01196343, -1.11694457, -0.11521576],\n",
              "       [-2.39562559,  0.04293124, -0.01702152,  0.48146772]])"
            ]
          },
          "metadata": {},
          "execution_count": 65
        }
      ]
    },
    {
      "cell_type": "code",
      "source": [
        "mask = (names == 'Bob') | (names == 'Will')\n",
        "mask"
      ],
      "metadata": {
        "id": "p15vqA9QQHiP",
        "outputId": "b5e996e7-bb57-4f88-ac7b-2ccebece68b8",
        "colab": {
          "base_uri": "https://localhost:8080/"
        }
      },
      "id": "p15vqA9QQHiP",
      "execution_count": 66,
      "outputs": [
        {
          "output_type": "execute_result",
          "data": {
            "text/plain": [
              "array([ True, False,  True,  True,  True, False, False])"
            ]
          },
          "metadata": {},
          "execution_count": 66
        }
      ]
    },
    {
      "cell_type": "code",
      "source": [
        "data[data < 0] = 0\n",
        "data"
      ],
      "metadata": {
        "id": "qEP2zBzkQQG2",
        "outputId": "db589347-4921-462a-b17e-a8298c3f00a1",
        "colab": {
          "base_uri": "https://localhost:8080/"
        }
      },
      "id": "qEP2zBzkQQG2",
      "execution_count": 67,
      "outputs": [
        {
          "output_type": "execute_result",
          "data": {
            "text/plain": [
              "array([[0.        , 0.        , 0.04525898, 0.        ],\n",
              "       [0.66989827, 1.23145162, 0.20581847, 1.02864468],\n",
              "       [0.        , 0.25377815, 0.308802  , 0.        ],\n",
              "       [0.        , 1.07625638, 0.        , 0.        ],\n",
              "       [0.76060404, 0.23366233, 0.        , 0.26148398],\n",
              "       [0.        , 0.        , 0.        , 0.        ],\n",
              "       [0.        , 0.04293124, 0.        , 0.48146772]])"
            ]
          },
          "metadata": {},
          "execution_count": 67
        }
      ]
    },
    {
      "cell_type": "markdown",
      "source": [
        "##4.1.7 배열 전치와 축 바꾸기"
      ],
      "metadata": {
        "id": "YKAW-WWmQ5Hk"
      },
      "id": "YKAW-WWmQ5Hk"
    },
    {
      "cell_type": "code",
      "source": [
        "arr = np.arange(15).reshape((3, -1))\n",
        "arr"
      ],
      "metadata": {
        "id": "q-91Ezs9Sh7J",
        "outputId": "7f036591-ed5b-4ff3-e557-21a31878293e",
        "colab": {
          "base_uri": "https://localhost:8080/"
        }
      },
      "id": "q-91Ezs9Sh7J",
      "execution_count": 68,
      "outputs": [
        {
          "output_type": "execute_result",
          "data": {
            "text/plain": [
              "array([[ 0,  1,  2,  3,  4],\n",
              "       [ 5,  6,  7,  8,  9],\n",
              "       [10, 11, 12, 13, 14]])"
            ]
          },
          "metadata": {},
          "execution_count": 68
        }
      ]
    },
    {
      "cell_type": "code",
      "source": [
        "arr.T"
      ],
      "metadata": {
        "id": "y8HowV7NSlBA",
        "outputId": "cc33b793-4ec6-402e-f21e-7912b47d58cc",
        "colab": {
          "base_uri": "https://localhost:8080/"
        }
      },
      "id": "y8HowV7NSlBA",
      "execution_count": 69,
      "outputs": [
        {
          "output_type": "execute_result",
          "data": {
            "text/plain": [
              "array([[ 0,  5, 10],\n",
              "       [ 1,  6, 11],\n",
              "       [ 2,  7, 12],\n",
              "       [ 3,  8, 13],\n",
              "       [ 4,  9, 14]])"
            ]
          },
          "metadata": {},
          "execution_count": 69
        }
      ]
    },
    {
      "cell_type": "code",
      "source": [
        "np.dot(arr.T, arr)"
      ],
      "metadata": {
        "id": "y99p77QPSmnw",
        "outputId": "8a4bb78e-3d4d-4f25-aca3-06cdf14a6255",
        "colab": {
          "base_uri": "https://localhost:8080/"
        }
      },
      "id": "y99p77QPSmnw",
      "execution_count": 70,
      "outputs": [
        {
          "output_type": "execute_result",
          "data": {
            "text/plain": [
              "array([[125, 140, 155, 170, 185],\n",
              "       [140, 158, 176, 194, 212],\n",
              "       [155, 176, 197, 218, 239],\n",
              "       [170, 194, 218, 242, 266],\n",
              "       [185, 212, 239, 266, 293]])"
            ]
          },
          "metadata": {},
          "execution_count": 70
        }
      ]
    },
    {
      "cell_type": "code",
      "source": [
        "arr = np.arange(16).reshape((2, 2, 4))\n",
        "arr"
      ],
      "metadata": {
        "id": "WRuY-iXkSpUH",
        "outputId": "4fa99e3e-2631-435b-d6bc-55cc271ee24d",
        "colab": {
          "base_uri": "https://localhost:8080/"
        }
      },
      "id": "WRuY-iXkSpUH",
      "execution_count": 71,
      "outputs": [
        {
          "output_type": "execute_result",
          "data": {
            "text/plain": [
              "array([[[ 0,  1,  2,  3],\n",
              "        [ 4,  5,  6,  7]],\n",
              "\n",
              "       [[ 8,  9, 10, 11],\n",
              "        [12, 13, 14, 15]]])"
            ]
          },
          "metadata": {},
          "execution_count": 71
        }
      ]
    },
    {
      "cell_type": "code",
      "source": [
        "arr.transpose((1, 0, 2))"
      ],
      "metadata": {
        "id": "KIFaS39bUFNW",
        "outputId": "7922c861-976d-4c9a-9952-3fa750503817",
        "colab": {
          "base_uri": "https://localhost:8080/"
        }
      },
      "id": "KIFaS39bUFNW",
      "execution_count": 72,
      "outputs": [
        {
          "output_type": "execute_result",
          "data": {
            "text/plain": [
              "array([[[ 0,  1,  2,  3],\n",
              "        [ 8,  9, 10, 11]],\n",
              "\n",
              "       [[ 4,  5,  6,  7],\n",
              "        [12, 13, 14, 15]]])"
            ]
          },
          "metadata": {},
          "execution_count": 72
        }
      ]
    },
    {
      "cell_type": "markdown",
      "source": [
        "#4.2 유니버설 함수"
      ],
      "metadata": {
        "id": "F6rvdyEBUITX"
      },
      "id": "F6rvdyEBUITX"
    },
    {
      "cell_type": "code",
      "source": [
        "arr = np.arange(10)\n",
        "np.sqrt(arr)"
      ],
      "metadata": {
        "id": "ruMg5kjAVrU0",
        "outputId": "f5d8be9f-d7e3-42e8-db22-c0d62cb45339",
        "colab": {
          "base_uri": "https://localhost:8080/"
        }
      },
      "id": "ruMg5kjAVrU0",
      "execution_count": 73,
      "outputs": [
        {
          "output_type": "execute_result",
          "data": {
            "text/plain": [
              "array([0.        , 1.        , 1.41421356, 1.73205081, 2.        ,\n",
              "       2.23606798, 2.44948974, 2.64575131, 2.82842712, 3.        ])"
            ]
          },
          "metadata": {},
          "execution_count": 73
        }
      ]
    },
    {
      "cell_type": "code",
      "source": [
        "np.exp(arr)"
      ],
      "metadata": {
        "id": "M6zDL0DiVvQ8",
        "outputId": "b635c67f-1697-4591-ea68-df7c51497fcf",
        "colab": {
          "base_uri": "https://localhost:8080/"
        }
      },
      "id": "M6zDL0DiVvQ8",
      "execution_count": 74,
      "outputs": [
        {
          "output_type": "execute_result",
          "data": {
            "text/plain": [
              "array([1.00000000e+00, 2.71828183e+00, 7.38905610e+00, 2.00855369e+01,\n",
              "       5.45981500e+01, 1.48413159e+02, 4.03428793e+02, 1.09663316e+03,\n",
              "       2.98095799e+03, 8.10308393e+03])"
            ]
          },
          "metadata": {},
          "execution_count": 74
        }
      ]
    },
    {
      "cell_type": "code",
      "source": [
        "x = np.random.randn(8)\n",
        "y = np.random.randn(8)\n",
        "x"
      ],
      "metadata": {
        "id": "rXeJaONmVwDb",
        "outputId": "21f5e44e-33c7-4f0b-f99c-feab15797c10",
        "colab": {
          "base_uri": "https://localhost:8080/"
        }
      },
      "id": "rXeJaONmVwDb",
      "execution_count": 75,
      "outputs": [
        {
          "output_type": "execute_result",
          "data": {
            "text/plain": [
              "array([ 2.2314158 , -0.84598924, -0.50993906, -0.44818871, -1.25266113,\n",
              "       -0.91603001, -1.16362469,  0.09817046])"
            ]
          },
          "metadata": {},
          "execution_count": 75
        }
      ]
    },
    {
      "cell_type": "code",
      "source": [
        "y"
      ],
      "metadata": {
        "id": "Q66J7UFDV0cz",
        "outputId": "50d41c40-404e-4725-92e7-757b25067152",
        "colab": {
          "base_uri": "https://localhost:8080/"
        }
      },
      "id": "Q66J7UFDV0cz",
      "execution_count": 76,
      "outputs": [
        {
          "output_type": "execute_result",
          "data": {
            "text/plain": [
              "array([ 0.70670384, -1.90658581,  0.30950808, -1.53927715, -1.66993802,\n",
              "        2.13603306, -1.01446109,  2.42698835])"
            ]
          },
          "metadata": {},
          "execution_count": 76
        }
      ]
    },
    {
      "cell_type": "code",
      "source": [
        "np.maximum(x, y)"
      ],
      "metadata": {
        "id": "9TnMV54NV0qk",
        "outputId": "11d864c1-a00b-4565-f969-e1a8c4fdcc1b",
        "colab": {
          "base_uri": "https://localhost:8080/"
        }
      },
      "id": "9TnMV54NV0qk",
      "execution_count": 77,
      "outputs": [
        {
          "output_type": "execute_result",
          "data": {
            "text/plain": [
              "array([ 2.2314158 , -0.84598924,  0.30950808, -0.44818871, -1.25266113,\n",
              "        2.13603306, -1.01446109,  2.42698835])"
            ]
          },
          "metadata": {},
          "execution_count": 77
        }
      ]
    },
    {
      "cell_type": "code",
      "source": [
        "arr = np.random.randn(7) * 5\n",
        "arr"
      ],
      "metadata": {
        "id": "E-sTsuNzV2Dr",
        "outputId": "742b7ab1-91d6-441a-a107-5dbac8ed15c5",
        "colab": {
          "base_uri": "https://localhost:8080/"
        }
      },
      "id": "E-sTsuNzV2Dr",
      "execution_count": 81,
      "outputs": [
        {
          "output_type": "execute_result",
          "data": {
            "text/plain": [
              "array([ 3.87729918, -4.40933541, -1.10666088,  0.55583995,  1.53306766,\n",
              "       -2.32969658, -3.64905691])"
            ]
          },
          "metadata": {},
          "execution_count": 81
        }
      ]
    },
    {
      "cell_type": "code",
      "source": [
        "remainder, whole_part = np.modf(arr)\n",
        "remainder"
      ],
      "metadata": {
        "id": "RuaR-wnqW2Wd",
        "outputId": "df169c34-15af-43a7-abe9-b53c490e4a65",
        "colab": {
          "base_uri": "https://localhost:8080/"
        }
      },
      "id": "RuaR-wnqW2Wd",
      "execution_count": 82,
      "outputs": [
        {
          "output_type": "execute_result",
          "data": {
            "text/plain": [
              "array([ 0.87729918, -0.40933541, -0.10666088,  0.55583995,  0.53306766,\n",
              "       -0.32969658, -0.64905691])"
            ]
          },
          "metadata": {},
          "execution_count": 82
        }
      ]
    },
    {
      "cell_type": "code",
      "source": [
        "whole_part"
      ],
      "metadata": {
        "id": "_j7cMmBwW9P1",
        "outputId": "3922e0a8-ad38-43f7-b627-f6eacee0733a",
        "colab": {
          "base_uri": "https://localhost:8080/"
        }
      },
      "id": "_j7cMmBwW9P1",
      "execution_count": 83,
      "outputs": [
        {
          "output_type": "execute_result",
          "data": {
            "text/plain": [
              "array([ 3., -4., -1.,  0.,  1., -2., -3.])"
            ]
          },
          "metadata": {},
          "execution_count": 83
        }
      ]
    },
    {
      "cell_type": "markdown",
      "source": [
        "# **4.3** 배열을 이용한 배열지향 프로그래밍"
      ],
      "metadata": {
        "id": "0ye1yNOpW99l"
      },
      "id": "0ye1yNOpW99l"
    },
    {
      "cell_type": "code",
      "source": [
        "points = np.arange(-5, 5, 0.01)\n",
        "xs, ys = np.meshgrid(points, points)\n",
        "ys"
      ],
      "metadata": {
        "id": "IHAF5XsKXfWU",
        "outputId": "511813c4-9348-490e-f9bc-b3a27456a6d7",
        "colab": {
          "base_uri": "https://localhost:8080/"
        }
      },
      "id": "IHAF5XsKXfWU",
      "execution_count": 85,
      "outputs": [
        {
          "output_type": "execute_result",
          "data": {
            "text/plain": [
              "array([[-5.  , -5.  , -5.  , ..., -5.  , -5.  , -5.  ],\n",
              "       [-4.99, -4.99, -4.99, ..., -4.99, -4.99, -4.99],\n",
              "       [-4.98, -4.98, -4.98, ..., -4.98, -4.98, -4.98],\n",
              "       ...,\n",
              "       [ 4.97,  4.97,  4.97, ...,  4.97,  4.97,  4.97],\n",
              "       [ 4.98,  4.98,  4.98, ...,  4.98,  4.98,  4.98],\n",
              "       [ 4.99,  4.99,  4.99, ...,  4.99,  4.99,  4.99]])"
            ]
          },
          "metadata": {},
          "execution_count": 85
        }
      ]
    },
    {
      "cell_type": "code",
      "source": [
        "z = np.sqrt(xs ** 2 + ys ** 2)\n",
        "z"
      ],
      "metadata": {
        "id": "YWMl00beXvPp",
        "outputId": "0ce3a97c-5746-420d-82b4-b957c766bf7a",
        "colab": {
          "base_uri": "https://localhost:8080/"
        }
      },
      "id": "YWMl00beXvPp",
      "execution_count": 86,
      "outputs": [
        {
          "output_type": "execute_result",
          "data": {
            "text/plain": [
              "array([[7.07106781, 7.06400028, 7.05693985, ..., 7.04988652, 7.05693985,\n",
              "        7.06400028],\n",
              "       [7.06400028, 7.05692568, 7.04985815, ..., 7.04279774, 7.04985815,\n",
              "        7.05692568],\n",
              "       [7.05693985, 7.04985815, 7.04278354, ..., 7.03571603, 7.04278354,\n",
              "        7.04985815],\n",
              "       ...,\n",
              "       [7.04988652, 7.04279774, 7.03571603, ..., 7.0286414 , 7.03571603,\n",
              "        7.04279774],\n",
              "       [7.05693985, 7.04985815, 7.04278354, ..., 7.03571603, 7.04278354,\n",
              "        7.04985815],\n",
              "       [7.06400028, 7.05692568, 7.04985815, ..., 7.04279774, 7.04985815,\n",
              "        7.05692568]])"
            ]
          },
          "metadata": {},
          "execution_count": 86
        }
      ]
    },
    {
      "cell_type": "code",
      "source": [
        "import matplotlib.pyplot as plt\n",
        "plt.imshow(z, cmap = plt.cm.gray)\n",
        "plt.title('Image of $\\sqrt{X^2 + y^2}$ for a grid of values')\n",
        "plt.colorbar()\n",
        "plt.show()"
      ],
      "metadata": {
        "id": "W9ePRxdEX2Lz",
        "outputId": "280d4b84-e1d7-4d90-a42d-e5f9f7e6958a",
        "colab": {
          "base_uri": "https://localhost:8080/",
          "height": 288
        }
      },
      "id": "W9ePRxdEX2Lz",
      "execution_count": 93,
      "outputs": [
        {
          "output_type": "display_data",
          "data": {
            "text/plain": [
              "<Figure size 432x288 with 2 Axes>"
            ],
            "image/png": "[encoded data removed]"
          },
          "metadata": {
            "needs_background": "light"
          }
        }
      ]
    },
    {
      "cell_type": "markdown",
      "source": [
        "## **4.3.1** 배열 연산으로 조건절 표현하기\n"
      ],
      "metadata": {
        "id": "40n9TbB-X8PS"
      },
      "id": "40n9TbB-X8PS"
    },
    {
      "cell_type": "code",
      "source": [
        ""
      ],
      "metadata": {
        "id": "z5r9a4s-YFi0"
      },
      "id": "z5r9a4s-YFi0",
      "execution_count": null,
      "outputs": []
    }
  ],
  "metadata": {
    "kernelspec": {
      "display_name": "Python 3 (ipykernel)",
      "language": "python",
      "name": "python3"
    },
    "language_info": {
      "codemirror_mode": {
        "name": "ipython",
        "version": 3
      },
      "file_extension": ".py",
      "mimetype": "text/x-python",
      "name": "python",
      "nbconvert_exporter": "python",
      "pygments_lexer": "ipython3",
      "version": "3.9.7"
    },
    "colab": {
      "name": "00. Untitled.ipynb",
      "provenance": [],
      "toc_visible": true,
      "include_colab_link": true
    }
  },
  "nbformat": 4,
  "nbformat_minor": 5
}